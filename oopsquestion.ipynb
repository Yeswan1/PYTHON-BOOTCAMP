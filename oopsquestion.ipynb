{
 "cells": [
  {
   "cell_type": "markdown",
   "metadata": {},
   "source": [
    "# Module: OOP Assignments\n",
    "## Lesson: Polymorphism, Abstraction, and Encapsulation\n",
    "### Assignment 1: Polymorphism with Methods\n",
    "\n",
    "Create a base class named `Shape` with a method `area`. Create two derived classes `Circle` and `Square` that override the `area` method. Create a list of `Shape` objects and call the `area` method on each object to demonstrate polymorphism.\n",
    "\n",
    "### Assignment 2: Polymorphism with Function Arguments\n",
    "\n",
    "Create a function named `describe_shape` that takes a `Shape` object as an argument and calls its `area` method. Create objects of `Circle` and `Square` classes and pass them to the `describe_shape` function.\n",
    "\n",
    "### Assignment 3: Abstract Base Class with Abstract Methods\n",
    "\n",
    "Create an abstract base class named `Vehicle` with an abstract method `start_engine`. Create derived classes `Car` and `Bike` that implement the `start_engine` method. Create objects of the derived classes and call the `start_engine` method.\n",
    "\n",
    "### Assignment 4: Abstract Base Class with Concrete Methods\n",
    "\n",
    "In the `Vehicle` class, add a concrete method `fuel_type` that returns a generic fuel type. Override this method in `Car` and `Bike` classes to return specific fuel types. Create objects of the derived classes and call the `fuel_type` method.\n",
    "\n",
    "### Assignment 5: Encapsulation with Private Attributes\n",
    "\n",
    "Create a class named `BankAccount` with private attributes `account_number` and `balance`. Add methods to deposit and withdraw money, and to check the balance. Ensure that the balance cannot be accessed directly.\n",
    "\n",
    "### Assignment 6: Encapsulation with Property Decorators\n",
    "\n",
    "In the `BankAccount` class, use property decorators to get and set the `balance` attribute. Ensure that the balance cannot be set to a negative value.\n",
    "\n",
    "### Assignment 7: Combining Encapsulation and Inheritance\n",
    "\n",
    "Create a base class named `Person` with private attributes `name` and `age`. Add methods to get and set these attributes. Create a derived class named `Student` that adds an attribute `student_id`. Create an object of the `Student` class and test the encapsulation.\n",
    "\n",
    "### Assignment 8: Polymorphism with Inheritance\n",
    "\n",
    "Create a base class named `Animal` with a method `speak`. Create two derived classes `Dog` and `Cat` that override the `speak` method. Create a list of `Animal` objects and call the `speak` method on each object to demonstrate polymorphism.\n",
    "\n",
    "### Assignment 9: Abstract Methods in Base Class\n",
    "\n",
    "Create an abstract base class named `Employee` with an abstract method `calculate_salary`. Create two derived classes `FullTimeEmployee` and `PartTimeEmployee` that implement the `calculate_salary` method. Create objects of the derived classes and call the `calculate_salary` method.\n",
    "\n",
    "### Assignment 10: Encapsulation in Data Classes\n",
    "\n",
    "Create a data class named `Product` with private attributes `product_id`, `name`, and `price`. Add methods to get and set these attributes. Ensure that the price cannot be set to a negative value.\n",
    "\n",
    "### Assignment 11: Polymorphism with Operator Overloading\n",
    "\n",
    "Create a class named `Vector` with attributes `x` and `y`. Overload the `+` operator to add two `Vector` objects. Create objects of the class and test the operator overloading.\n",
    "\n",
    "### Assignment 12: Abstract Properties\n",
    "\n",
    "Create an abstract base class named `Appliance` with an abstract property `power`. Create two derived classes `WashingMachine` and `Refrigerator` that implement the `power` property. Create objects of the derived classes and access the `power` property.\n",
    "\n",
    "### Assignment 13: Encapsulation in Class Hierarchies\n",
    "\n",
    "Create a base class named `Account` with private attributes `account_number` and `balance`. Add methods to get and set these attributes. Create a derived class named `SavingsAccount` that adds an attribute `interest_rate`. Create an object of the `SavingsAccount` class and test the encapsulation.\n",
    "\n",
    "### Assignment 14: Polymorphism with Multiple Inheritance\n",
    "\n",
    "Create a class named `Flyer` with a method `fly`. Create a class named `Swimmer` with a method `swim`. Create a class named `Superhero` that inherits from both `Flyer` and `Swimmer` and overrides both methods. Create an object of the `Superhero` class and call both methods.\n",
    "\n",
    "### Assignment 15: Abstract Methods and Multiple Inheritance\n",
    "\n",
    "Create an abstract base class named `Worker` with an abstract method `work`. Create two derived classes `Engineer` and `Doctor` that implement the `work` method. Create another derived class `Scientist` that inherits from both `Engineer` and `Doctor`. Create an object of the `Scientist` class and call the `work` method."
   ]
  },
  {
   "cell_type": "code",
   "execution_count": 1,
   "metadata": {},
   "outputs": [
    {
     "data": {
      "text/plain": [
       "(78.5, 16)"
      ]
     },
     "execution_count": 1,
     "metadata": {},
     "output_type": "execute_result"
    }
   ],
   "source": [
    "class shape:\n",
    "    def area(self):\n",
    "        raise NotImplementedError(\"Subclasses should implement this!\")\n",
    "class circle(shape):\n",
    "    def __init__(self, radius):\n",
    "        self.radius = radius\n",
    "\n",
    "    def area(self):\n",
    "        return 3.14 * (self.radius ** 2)\n",
    "class square(shape):\n",
    "    def __init__(self, side):\n",
    "            self.side = side\n",
    "\n",
    "    def area(self):\n",
    "            return self.side ** 2\n",
    "a= circle(5)\n",
    "b= square(4)\n",
    "a.area(), b.area()\n"
   ]
  },
  {
   "cell_type": "code",
   "execution_count": 4,
   "id": "9e3e0918",
   "metadata": {},
   "outputs": [
    {
     "name": "stdout",
     "output_type": "stream",
     "text": [
      "This shape is a with an area of 28.26.\n"
     ]
    }
   ],
   "source": [
    "def describe_shape(shape):\n",
    "    print(f\"This shape is a with an area of {shape.area()}.\")\n",
    "c= circle(3)\n",
    "describe_shape(c)\n"
   ]
  },
  {
   "cell_type": "code",
   "execution_count": 9,
   "id": "8fdc65c6",
   "metadata": {},
   "outputs": [
    {
     "name": "stdout",
     "output_type": "stream",
     "text": [
      "burr\n",
      "jjsdsd\n"
     ]
    }
   ],
   "source": [
    "from abc import ABC\n",
    "class vehicle(ABC):\n",
    "    def start_engine(self):\n",
    "        print(\"hello\")\n",
    "    def fuel_type(self):\n",
    "        print(\"generic type\")\n",
    "class Car(vehicle):\n",
    "    def start_engine(self):\n",
    "        print(\"burr\")\n",
    "    def fuel_type(self):\n",
    "        print(\"jjsdsd\")\n",
    "class bus(vehicle):\n",
    "    def start_engine(self):\n",
    "        print(\"nuss\")\n",
    "    def fuel_type(self):\n",
    "        print(\"jj\")\n",
    "v=Car()\n",
    "w=bus()\n",
    "v.start_engine()\n",
    "v.fuel_type()"
   ]
  },
  {
   "cell_type": "code",
   "execution_count": 19,
   "id": "4d59d9f3",
   "metadata": {},
   "outputs": [
    {
     "data": {
      "text/plain": [
       "1420"
      ]
     },
     "execution_count": 19,
     "metadata": {},
     "output_type": "execute_result"
    }
   ],
   "source": [
    "class BankAccount:\n",
    "    def __init__(self,amount,balance=0):\n",
    "        self.__balance=balance\n",
    "        self.__amount=amount\n",
    "    def deposit(self,amount):\n",
    "        self.__balance+=amount\n",
    "    def withdraw(self,amount):\n",
    "        self.__balance-=amount\n",
    "    def balnce(self):\n",
    "        return self.__balance\n",
    "#Test\n",
    "x=BankAccount(200,1200)\n",
    "x.deposit(220)\n",
    "x.balnce()\n"
   ]
  },
  {
   "cell_type": "code",
   "execution_count": 31,
   "id": "8b85f848",
   "metadata": {},
   "outputs": [
    {
     "data": {
      "text/plain": [
       "880"
      ]
     },
     "execution_count": 31,
     "metadata": {},
     "output_type": "execute_result"
    }
   ],
   "source": [
    "class BankAccount:\n",
    "    def __init__(self,an,balnce=0):\n",
    "        self.__an=an\n",
    "        self.__balnce=balnce\n",
    "    def bal(self):\n",
    "        return self.__balnce\n",
    "    def balance(self, amount):\n",
    "        if amount < 0:\n",
    "              print(\"Balance cannot be negative!\")\n",
    "        else:\n",
    "            self.__balnce = amount\n",
    "    def deposit(self,amount):\n",
    "        self.__balnce+=amount\n",
    "\n",
    "    def withdraw(self,amount):\n",
    "        self.__balnce-=amount\n",
    "        return self.__balnce\n",
    "e=BankAccount(123,200)\n",
    "e.deposit(200)\n",
    "e.withdraw(20)\n",
    "e.deposit(500)\n",
    "e.bal()\n"
   ]
  },
  {
   "cell_type": "code",
   "execution_count": 35,
   "id": "aec0c7d4",
   "metadata": {},
   "outputs": [
    {
     "name": "stdout",
     "output_type": "stream",
     "text": [
      "Alice 22 S123\n"
     ]
    }
   ],
   "source": [
    "class Person:\n",
    "    def __init__(self,name,age):\n",
    "        self.__name=name\n",
    "        self.__age=age\n",
    "        pass\n",
    "    def get_name(self):\n",
    "        return self.__name\n",
    "\n",
    "    def set_name(self, name):\n",
    "        self.__name = name\n",
    "\n",
    "    def get_age(self):\n",
    "        return self.__age\n",
    "\n",
    "    def set_age(self, age):\n",
    "        self.__age = age\n",
    "class Student(Person):\n",
    "    def __init__(self,name,age,stdid):\n",
    "        super().__init__(name,age)\n",
    "        self.stdid=stdid\n",
    "# Test\n",
    "student = Student('John', 20, 'S123')\n",
    "student.set_name('Alice')\n",
    "student.set_age(22)\n",
    "print(student.get_name(), student.get_age(), student.stdid)"
   ]
  },
  {
   "cell_type": "code",
   "execution_count": 36,
   "id": "cb8ac268",
   "metadata": {},
   "outputs": [
    {
     "name": "stdout",
     "output_type": "stream",
     "text": [
      "nnnnn\n",
      "None\n",
      "sdds\n",
      "None\n"
     ]
    }
   ],
   "source": [
    "class Animal:\n",
    "    def speak(self):\n",
    "        return \"wooh\"\n",
    "class Dog(Animal):\n",
    "    def speak(self):\n",
    "        print(\"nnnnn\")\n",
    "class cat(Animal):\n",
    "    def speak(self):\n",
    "        print(\"sdds\")\n",
    "animals=[Dog(),cat()]\n",
    "for a in animals:\n",
    "    print(a.speak())"
   ]
  },
  {
   "cell_type": "code",
   "execution_count": 40,
   "id": "169fc7fd",
   "metadata": {},
   "outputs": [
    {
     "name": "stdout",
     "output_type": "stream",
     "text": [
      "what is the  20000\n"
     ]
    },
    {
     "data": {
      "text/plain": [
       "9000"
      ]
     },
     "execution_count": 40,
     "metadata": {},
     "output_type": "execute_result"
    }
   ],
   "source": [
    "from abc import ABC\n",
    "class Employee(ABC):\n",
    "    def calc(self):\n",
    "        pass\n",
    "class Fulltime(Employee):\n",
    "    def __init__(self,salary):\n",
    "        self.salary=salary\n",
    "    def calc(self):\n",
    "        return self.salary\n",
    "class parttime(Employee):\n",
    "    def __init__(self,totalhours):\n",
    "        self.totalhours=totalhours\n",
    "    def calc(self):\n",
    "        return self.totalhours*200\n",
    "\n",
    "w1=Fulltime(20000)\n",
    "p2=parttime(45) \n",
    "print(\"what is the \",w1.calc())\n",
    "p2.calc()     \n"
   ]
  },
  {
   "cell_type": "code",
   "execution_count": 43,
   "id": "2fa7faa8",
   "metadata": {},
   "outputs": [
    {
     "data": {
      "text/plain": [
       "121"
      ]
     },
     "execution_count": 43,
     "metadata": {},
     "output_type": "execute_result"
    }
   ],
   "source": [
    "class product:\n",
    "    def __init__(self,pid,name,price):\n",
    "        self.__pid=pid\n",
    "        self.__name=name\n",
    "        self.__price=price\n",
    "    def get(self):\n",
    "        return self.__pid\n",
    "    def set(self,pid):\n",
    "        self.__pid=pid\n",
    "tr1=product(123,\"pat\",300)\n",
    "tr1.get()\n",
    "tr1.set(121)\n",
    "tr1.get()\n"
   ]
  },
  {
   "cell_type": "code",
   "execution_count": 44,
   "id": "5a204f1c",
   "metadata": {},
   "outputs": [
    {
     "name": "stdout",
     "output_type": "stream",
     "text": [
      "6,9\n"
     ]
    }
   ],
   "source": [
    "class vector:\n",
    "    def __init__(self,x,y):\n",
    "        self.x=x\n",
    "        self.y=y\n",
    "    \n",
    "    def __add__(self,other):\n",
    "        return vector(self.x+other.x,self.y+other.y)\n",
    "    def __str__(self):\n",
    "        return f\"{self.x},{self.y}\"\n",
    "    \n",
    "\n",
    "v2=vector(2,4)\n",
    "v3=vector(4,5)\n",
    "v4=v2+v3\n",
    "print(v4)\n",
    "    "
   ]
  },
  {
   "cell_type": "code",
   "execution_count": 50,
   "id": "8663cafb",
   "metadata": {},
   "outputs": [
    {
     "name": "stdout",
     "output_type": "stream",
     "text": [
      "500W\n",
      "300W\n"
     ]
    }
   ],
   "source": [
    "from abc import ABC, abstractmethod\n",
    "\n",
    "class Appliance(ABC):\n",
    "    @property\n",
    "    @abstractmethod\n",
    "    def power(self):\n",
    "        pass\n",
    "\n",
    "class WashingMachine(Appliance):\n",
    "    @property\n",
    "    def power(self):\n",
    "        return \"500W\"\n",
    "\n",
    "class Refrigerator(Appliance):\n",
    "    @property\n",
    "    def power(self):\n",
    "        return \"300W\"\n",
    "\n",
    "# Test\n",
    "wm = WashingMachine()\n",
    "fridge = Refrigerator()\n",
    "print(wm.power)     # 500W\n",
    "print(fridge.power) # 300W\n"
   ]
  },
  {
   "cell_type": "code",
   "execution_count": 51,
   "id": "e0132116",
   "metadata": {},
   "outputs": [
    {
     "name": "stdout",
     "output_type": "stream",
     "text": [
      "12345678 1000 0.05\n",
      "12345678 1500 0.05\n"
     ]
    }
   ],
   "source": [
    "class Account:\n",
    "    def __init__(self, account_number, balance=0):\n",
    "        self.__account_number = account_number\n",
    "        self.__balance = balance\n",
    "\n",
    "    def get_account_number(self):\n",
    "        return self.__account_number\n",
    "\n",
    "    def get_balance(self):\n",
    "        return self.__balance\n",
    "\n",
    "    def set_balance(self, balance):\n",
    "        if balance < 0:\n",
    "            print(\"Balance cannot be negative!\")\n",
    "        else:\n",
    "            self.__balance = balance\n",
    "\n",
    "class SavingsAccount(Account):\n",
    "    def __init__(self, account_number, balance, interest_rate):\n",
    "        super().__init__(account_number, balance)\n",
    "        self.interest_rate = interest_rate\n",
    "\n",
    "# Test\n",
    "savings = SavingsAccount('12345678', 1000, 0.05)\n",
    "print(savings.get_account_number(), savings.get_balance(), savings.interest_rate)\n",
    "savings.set_balance(1500)\n",
    "print(savings.get_account_number(), savings.get_balance(), savings.interest_rate)"
   ]
  },
  {
   "cell_type": "code",
   "execution_count": 52,
   "id": "f7eb1f22",
   "metadata": {},
   "outputs": [
    {
     "name": "stdout",
     "output_type": "stream",
     "text": [
      "Superhero flying...\n",
      "Superhero swimming...\n"
     ]
    }
   ],
   "source": [
    "class Flyer:\n",
    "    def fly(self):\n",
    "        print(\"Flying...\")\n",
    "\n",
    "class Swimmer:\n",
    "    def swim(self):\n",
    "        print(\"Swimming...\")\n",
    "\n",
    "class Superhero(Flyer, Swimmer):\n",
    "    def fly(self):\n",
    "        print(\"Superhero flying...\")\n",
    "\n",
    "    def swim(self):\n",
    "        print(\"Superhero swimming...\")\n",
    "\n",
    "# Test\n",
    "superhero = Superhero()\n",
    "superhero.fly()\n",
    "superhero.swim()"
   ]
  },
  {
   "cell_type": "code",
   "execution_count": 55,
   "id": "5dfbdb91",
   "metadata": {},
   "outputs": [
    {
     "name": "stdout",
     "output_type": "stream",
     "text": [
      "Engineer working...\n",
      "Doctor working...\n"
     ]
    }
   ],
   "source": [
    "class Worker(ABC):\n",
    "    @abstractmethod\n",
    "    def work(self):\n",
    "        pass\n",
    "\n",
    "class Engineer(Worker):\n",
    "    def work(self):\n",
    "        print(\"Engineer working...\")\n",
    "\n",
    "class Doctor(Worker):\n",
    "    def work(self):\n",
    "        print(\"Doctor working...\")\n",
    "\n",
    "class Scientist(Engineer, Doctor):\n",
    "    def work(self):\n",
    "        Engineer.work(self)\n",
    "        Doctor.work(self)\n",
    "\n",
    "# Test\n",
    "scientist = Scientist()\n",
    "scientist.work()"
   ]
  }
 ],
 "metadata": {
  "kernelspec": {
   "display_name": "base",
   "language": "python",
   "name": "python3"
  },
  "language_info": {
   "codemirror_mode": {
    "name": "ipython",
    "version": 3
   },
   "file_extension": ".py",
   "mimetype": "text/x-python",
   "name": "python",
   "nbconvert_exporter": "python",
   "pygments_lexer": "ipython3",
   "version": "3.12.7"
  }
 },
 "nbformat": 4,
 "nbformat_minor": 5
}
