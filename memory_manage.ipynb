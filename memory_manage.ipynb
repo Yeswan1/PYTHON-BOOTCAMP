{
 "cells": [
  {
   "cell_type": "code",
   "execution_count": 1,
   "id": "35435cf7",
   "metadata": {},
   "outputs": [
    {
     "name": "stdout",
     "output_type": "stream",
     "text": [
      "2\n"
     ]
    }
   ],
   "source": [
    "import sys\n",
    "a=[]\n",
    "print(sys.getrefcount(a))"
   ]
  },
  {
   "cell_type": "code",
   "execution_count": 2,
   "id": "df382bed",
   "metadata": {},
   "outputs": [
    {
     "name": "stdout",
     "output_type": "stream",
     "text": [
      "3\n"
     ]
    }
   ],
   "source": [
    "b=a\n",
    "print(sys.getrefcount(b))"
   ]
  },
  {
   "cell_type": "code",
   "execution_count": 3,
   "id": "4d77a41c",
   "metadata": {},
   "outputs": [
    {
     "name": "stdout",
     "output_type": "stream",
     "text": [
      "2\n"
     ]
    }
   ],
   "source": [
    "del b\n",
    "print(sys.getrefcount(a))"
   ]
  },
  {
   "cell_type": "markdown",
   "id": "23b7936f",
   "metadata": {},
   "source": [
    "##garbage collection ##\n"
   ]
  },
  {
   "cell_type": "code",
   "execution_count": 4,
   "id": "e81482ab",
   "metadata": {},
   "outputs": [],
   "source": [
    "import gc\n",
    "#enable garcbage collet\\ction\n",
    "gc.enable()"
   ]
  },
  {
   "cell_type": "code",
   "execution_count": 6,
   "id": "62477480",
   "metadata": {},
   "outputs": [],
   "source": [
    "gc.disable()"
   ]
  },
  {
   "cell_type": "code",
   "execution_count": 7,
   "id": "6004f820",
   "metadata": {},
   "outputs": [
    {
     "data": {
      "text/plain": [
       "7"
      ]
     },
     "execution_count": 7,
     "metadata": {},
     "output_type": "execute_result"
    }
   ],
   "source": [
    "gc.collect()"
   ]
  },
  {
   "cell_type": "code",
   "execution_count": 8,
   "id": "d3d5af0b",
   "metadata": {},
   "outputs": [
    {
     "name": "stdout",
     "output_type": "stream",
     "text": [
      "[{'collections': 180, 'collected': 1554, 'uncollectable': 0}, {'collections': 16, 'collected': 126, 'uncollectable': 0}, {'collections': 3, 'collected': 88, 'uncollectable': 0}]\n"
     ]
    }
   ],
   "source": [
    "##garbage stat ##\n",
    "print(gc.get_stats())"
   ]
  },
  {
   "cell_type": "code",
   "execution_count": 9,
   "id": "c19840df",
   "metadata": {},
   "outputs": [
    {
     "name": "stdout",
     "output_type": "stream",
     "text": [
      "[]\n"
     ]
    }
   ],
   "source": [
    "print(gc.garbage)"
   ]
  },
  {
   "cell_type": "code",
   "execution_count": 14,
   "id": "053f5eb4",
   "metadata": {},
   "outputs": [
    {
     "name": "stdout",
     "output_type": "stream",
     "text": [
      "object hello created\n",
      "object hello2 created\n",
      "objecty hello deleted\n",
      "objecty hello2 deleted\n"
     ]
    },
    {
     "data": {
      "text/plain": [
       "9"
      ]
     },
     "execution_count": 14,
     "metadata": {},
     "output_type": "execute_result"
    }
   ],
   "source": [
    "import gc\n",
    "class myobj:\n",
    "    def __init__(self,name):\n",
    "        self.name=name\n",
    "        print(f\"object {self.name} created\")\n",
    "\n",
    "\n",
    "    def __del__(self):\n",
    "        print(f\"objecty {self.name} deleted\")\n",
    "\n",
    "obj1=myobj(\"hello\")\n",
    "obj2=myobj(\"hello2\")\n",
    "obj1.ref=obj2\n",
    "obj2.ref=obj1\n",
    "\n",
    "del obj1\n",
    "del obj2\n",
    "\n",
    "gc.collect()\n"
   ]
  },
  {
   "cell_type": "code",
   "execution_count": 16,
   "id": "3d8951ba",
   "metadata": {},
   "outputs": [
    {
     "name": "stdout",
     "output_type": "stream",
     "text": [
      "0\n",
      "1\n",
      "2\n",
      "3\n",
      "4\n",
      "5\n",
      "6\n",
      "7\n",
      "8\n",
      "9\n",
      "10\n",
      "11\n"
     ]
    }
   ],
   "source": [
    "def gen_num(n):\n",
    "    for i in range(n):\n",
    "        yield i\n",
    "for num in gen_num(10000):\n",
    "    print(num)\n",
    "    if num>10:\n",
    "        break\n",
    "\n"
   ]
  },
  {
   "cell_type": "code",
   "execution_count": 19,
   "id": "3dcfa86d",
   "metadata": {},
   "outputs": [],
   "source": [
    "import tracemalloc\n",
    "def create():\n",
    "    return [i for i in range(20)]\n",
    "def main():\n",
    "    tracemalloc.start()\n",
    "\n",
    "    create()\n",
    "\n",
    "    snapshot=tracemalloc.take_snapshot()\n",
    "    top_snap=snapshot.statistics('lineno')\n",
    "\n",
    "    for stat in top_snap[:10]:\n",
    "        print(stat)"
   ]
  },
  {
   "cell_type": "code",
   "execution_count": 20,
   "id": "129cc5dc",
   "metadata": {},
   "outputs": [
    {
     "name": "stdout",
     "output_type": "stream",
     "text": [
      "c:\\Users\\surya\\anaconda3\\Lib\\site-packages\\tornado\\platform\\asyncio.py:574: size=144 KiB, count=5, average=28.8 KiB\n",
      "c:\\Users\\surya\\anaconda3\\Lib\\asyncio\\windows_events.py:487: size=12.1 KiB, count=3, average=4129 B\n",
      "c:\\Users\\surya\\anaconda3\\Lib\\json\\decoder.py:353: size=1806 B, count=24, average=75 B\n",
      "c:\\Users\\surya\\anaconda3\\Lib\\site-packages\\traitlets\\traitlets.py:731: size=1314 B, count=21, average=63 B\n",
      "c:\\Users\\surya\\anaconda3\\Lib\\site-packages\\jupyter_client\\session.py:100: size=1241 B, count=8, average=155 B\n",
      "c:\\Users\\surya\\anaconda3\\Lib\\codeop.py:126: size=1222 B, count=10, average=122 B\n",
      "c:\\Users\\surya\\anaconda3\\Lib\\site-packages\\traitlets\\traitlets.py:1514: size=1200 B, count=10, average=120 B\n",
      "c:\\Users\\surya\\anaconda3\\Lib\\site-packages\\zmq\\sugar\\socket.py:808: size=1056 B, count=6, average=176 B\n",
      "c:\\Users\\surya\\anaconda3\\Lib\\site-packages\\traitlets\\traitlets.py:1543: size=899 B, count=15, average=60 B\n",
      "c:\\Users\\surya\\anaconda3\\Lib\\site-packages\\zmq\\sugar\\attrsettr.py:44: size=893 B, count=19, average=47 B\n"
     ]
    }
   ],
   "source": [
    "main()"
   ]
  }
 ],
 "metadata": {
  "kernelspec": {
   "display_name": "base",
   "language": "python",
   "name": "python3"
  },
  "language_info": {
   "codemirror_mode": {
    "name": "ipython",
    "version": 3
   },
   "file_extension": ".py",
   "mimetype": "text/x-python",
   "name": "python",
   "nbconvert_exporter": "python",
   "pygments_lexer": "ipython3",
   "version": "3.12.7"
  }
 },
 "nbformat": 4,
 "nbformat_minor": 5
}
