{
 "cells": [
  {
   "cell_type": "markdown",
   "id": "964cf61d",
   "metadata": {},
   "source": [
    "# Module: SQLite3 Assignments\n",
    "## Lesson: SQLite3\n",
    "### Assignment 1: Creating and Connecting to a Database\n",
    "\n",
    "1. Write a Python function to create a new SQLite3 database named `test.db`.\n",
    "2. Write a Python function to create a table named `employees` with columns `id` (integer), `name` (text), `age` (integer), and `department` (text) in the `test.db` database.\n",
    "\n",
    "### Assignment 2: Inserting Data\n",
    "\n",
    "1. Write a Python function to insert a new employee into the `employees` table.\n",
    "2. Insert at least 5 different employees into the `employees` table.\n",
    "\n",
    "### Assignment 3: Querying Data\n",
    "\n",
    "1. Write a Python function to fetch and display all records from the `employees` table.\n",
    "2. Write a Python function to fetch and display all employees from a specific department.\n",
    "\n",
    "### Assignment 4: Updating Data\n",
    "\n",
    "1. Write a Python function to update the department of an employee based on their `id`.\n",
    "2. Update the department of at least 2 employees and display the updated records.\n",
    "\n",
    "### Assignment 5: Deleting Data\n",
    "\n",
    "1. Write a Python function to delete an employee from the `employees` table based on their `id`.\n",
    "2. Delete at least 1 employee and display the remaining records.\n",
    "\n",
    "### Assignment 6: Advanced Queries\n",
    "\n",
    "1. Write a Python function to fetch and display employees older than a certain age.\n",
    "2. Write a Python function to fetch and display employees whose names start with a specific letter.\n",
    "\n",
    "### Assignment 7: Handling Transactions\n",
    "\n",
    "1. Write a Python function to insert multiple employees into the `employees` table in a single transaction. Ensure that if any insertion fails, none of the insertions are committed.\n",
    "2. Write a Python function to update the age of multiple employees in a single transaction. Ensure that if any update fails, none of the updates are committed.\n",
    "\n",
    "### Assignment 8: Creating Relationships\n",
    "\n",
    "1. Create a new table named `departments` with columns `id` (integer) and `name` (text).\n",
    "2. Modify the `employees` table to include a foreign key referencing the `id` column in the `departments` table.\n",
    "3. Write a Python function to insert data into both the `departments` and `employees` tables, ensuring referential integrity.\n",
    "\n",
    "### Assignment 9: Indexing and Optimization\n",
    "\n",
    "1. Create an index on the `name` column of the `employees` table.\n",
    "2. Write a Python function to fetch and display all employees whose names start with a specific letter. Compare the performance with and without the index.\n",
    "\n",
    "### Assignment 10: Backing Up and Restoring Data\n",
    "\n",
    "1. Write a Python function to back up the `test.db` database to a file named `backup.db`.\n",
    "2. Write a Python function to restore the `test.db` database from the `backup.db` file."
   ]
  },
  {
   "cell_type": "code",
   "execution_count": 1,
   "id": "880ef635",
   "metadata": {},
   "outputs": [
    {
     "name": "stdout",
     "output_type": "stream",
     "text": [
      "created succesfulyt\n"
     ]
    }
   ],
   "source": [
    "import sqlite3\n",
    "def create_dataase():\n",
    "    conn=sqlite3.connect('test3.db')\n",
    "    conn.commit()\n",
    "    conn.close()\n",
    "    print(\"created succesfulyt\")\n",
    "create_dataase()"
   ]
  },
  {
   "cell_type": "code",
   "execution_count": 2,
   "id": "b2bdc8d7",
   "metadata": {},
   "outputs": [
    {
     "name": "stdout",
     "output_type": "stream",
     "text": [
      "Table 'employees' created successfully.\n"
     ]
    }
   ],
   "source": [
    "def create_table1():\n",
    "    conn=sqlite3.connect('test3.db')\n",
    "    cursor=conn.cursor()\n",
    "    cursor.execute('''\n",
    "    CREATE TABLE IF NOT EXISTS employe1(\n",
    "    id INTEGER PRIMARY KEY,\n",
    "    name TEXT NOT NULL,\n",
    "    age INTEGER,\n",
    "    dept TEXT\n",
    "    )\n",
    "''')\n",
    "\n",
    "    conn.commit()\n",
    "    conn.close()\n",
    "    print(\"Table 'employees' created successfully.\")\n",
    "\n",
    "# Test the function\n",
    "create_table1()"
   ]
  },
  {
   "cell_type": "code",
   "execution_count": 3,
   "id": "14acf290",
   "metadata": {},
   "outputs": [
    {
     "name": "stdout",
     "output_type": "stream",
     "text": [
      "Employee inserted successfully.\n"
     ]
    }
   ],
   "source": [
    "def insertin(name,id,age,department):\n",
    "    conn=sqlite3.connect('test3.db')\n",
    "    cursor=conn.cursor()\n",
    "    cursor.execute('''\n",
    "        INSERT INTO employe1 (id, name, age, dept)\n",
    "        VALUES (?, ?, ?, ?)\n",
    "    ''', (id, name, age, department))\n",
    "    conn.commit()\n",
    "    conn.close()\n",
    "    print(\"Employee inserted successfully.\")\n",
    "insertin(\"alice\",15,34,\"Aiml\")"
   ]
  },
  {
   "cell_type": "code",
   "execution_count": 4,
   "id": "3b990969",
   "metadata": {},
   "outputs": [
    {
     "name": "stdout",
     "output_type": "stream",
     "text": [
      "(15, 'alice', 34, 'Aiml')\n"
     ]
    }
   ],
   "source": [
    "def fetch_all_employees():\n",
    "    conn = sqlite3.connect('test3.db')\n",
    "    cursor = conn.cursor()\n",
    "    cursor.execute('SELECT * FROM employe1')\n",
    "    records = cursor.fetchall()\n",
    "    conn.close()\n",
    "    for record in records:\n",
    "        print(record)\n",
    "\n",
    "# Test the function\n",
    "fetch_all_employees()"
   ]
  },
  {
   "cell_type": "code",
   "execution_count": 5,
   "id": "24a90244",
   "metadata": {},
   "outputs": [],
   "source": [
    "def fetch_employees_by_department(department):\n",
    "    conn = sqlite3.connect('test3.db')\n",
    "    cursor = conn.cursor()\n",
    "    cursor.execute('SELECT * FROM employe1 WHERE dept= ?', (department,))\n",
    "    records = cursor.fetchall()\n",
    "    conn.close()\n",
    "    for record in records:\n",
    "        print(record)\n",
    "\n",
    "# Test the function\n",
    "fetch_employees_by_department('aids')\n"
   ]
  },
  {
   "cell_type": "code",
   "execution_count": 8,
   "id": "a9a8ebb3",
   "metadata": {},
   "outputs": [
    {
     "name": "stdout",
     "output_type": "stream",
     "text": [
      "Employee department updated successfully.\n"
     ]
    }
   ],
   "source": [
    "def update_employee_department(employee_id, new_department):\n",
    "    conn = sqlite3.connect('test3.db')\n",
    "    cursor = conn.cursor()\n",
    "    cursor.execute('''\n",
    "        UPDATE employe1\n",
    "        SET dept = ?\n",
    "        WHERE id = ?\n",
    "    ''', (new_department, employee_id))\n",
    "    conn.commit()\n",
    "    conn.close()\n",
    "    print(\"Employee department updated successfully.\")\n",
    "\n",
    "# Test the function\n",
    "update_employee_department(15, 'Finance')"
   ]
  },
  {
   "cell_type": "code",
   "execution_count": 10,
   "id": "d018a040",
   "metadata": {},
   "outputs": [
    {
     "name": "stdout",
     "output_type": "stream",
     "text": [
      "Employee department updated successfully.\n",
      "Employee department updated successfully.\n",
      "(15, 'alice', 34, 'Finance')\n"
     ]
    }
   ],
   "source": [
    "update_employee_department(2, 'Research')\n",
    "update_employee_department(3, 'Customer Support')\n",
    "\n",
    "# Fetch and display all records\n",
    "fetch_all_employees()"
   ]
  },
  {
   "cell_type": "code",
   "execution_count": 12,
   "id": "7069e706",
   "metadata": {},
   "outputs": [
    {
     "name": "stdout",
     "output_type": "stream",
     "text": [
      "employess are ddd\n"
     ]
    }
   ],
   "source": [
    "def dels(emp_id):\n",
    "    conn=sqlite3.connect('test3.db')\n",
    "    cursor=conn.cursor()\n",
    "    cursor.execute('''\n",
    "    DELETE FROM employe1\n",
    "    where id=?\n",
    "''',(emp_id,))\n",
    "    conn.commit()\n",
    "    conn.close()\n",
    "    print(\"employess are ddd\")\n",
    "dels(2)"
   ]
  },
  {
   "cell_type": "code",
   "execution_count": 13,
   "id": "1fb4642e",
   "metadata": {},
   "outputs": [
    {
     "name": "stdout",
     "output_type": "stream",
     "text": [
      "(15, 'alice', 34, 'Finance')\n"
     ]
    }
   ],
   "source": [
    "fetch_all_employees()"
   ]
  },
  {
   "cell_type": "code",
   "execution_count": 25,
   "id": "62804ba5",
   "metadata": {},
   "outputs": [],
   "source": [
    "def fetch_emp(age2):\n",
    "    conn=sqlite3.connect('test3.db')\n",
    "    cursor=conn.cursor()\n",
    "    cursor.execute('SELECT * FROM employe1 WHERE age < ?',(age2,))\n",
    "    records=cursor.fetchall()\n",
    "    conn.close()\n",
    "    for record in records:\n",
    "        print(record)\n",
    "\n",
    "# Test the function\n",
    "fetch_emp(10)\n",
    "    "
   ]
  },
  {
   "cell_type": "code",
   "execution_count": 35,
   "id": "9e5846e2",
   "metadata": {},
   "outputs": [
    {
     "name": "stdout",
     "output_type": "stream",
     "text": [
      "(15, 'alice', 34, 'Finance')\n"
     ]
    }
   ],
   "source": [
    "def fetchname(letter):\n",
    "    conn=sqlite3.connect('test3.db')\n",
    "    cursor=conn.cursor()\n",
    "    cursor.execute('SELECT * FROM employe1 WHERE name LIKE ?', (letter+'%',))\n",
    "    records=cursor.fetchall()\n",
    "    conn.close()\n",
    "    for rows in records:\n",
    "        print(rows)\n",
    "\n",
    "fetchname('a')\n"
   ]
  },
  {
   "cell_type": "code",
   "execution_count": 40,
   "id": "6f00c85f",
   "metadata": {},
   "outputs": [
    {
     "name": "stdout",
     "output_type": "stream",
     "text": [
      "Error occurred, transaction rolled back.\n",
      "UNIQUE constraint failed: employe1.id\n"
     ]
    }
   ],
   "source": [
    "def insert_multiple_employees(employees):\n",
    "    conn = sqlite3.connect('test3.db')\n",
    "    cursor = conn.cursor()\n",
    "    try:\n",
    "        cursor.executemany('''\n",
    "            INSERT INTO employe1 (id, name, age, dept)\n",
    "            VALUES (?, ?, ?, ?)\n",
    "        ''', employees)\n",
    "        conn.commit()\n",
    "        print(\"All employees inserted successfully.\")\n",
    "    except Exception as e:\n",
    "        conn.rollback()\n",
    "        print(\"Error occurred, transaction rolled back.\")\n",
    "        print(e)\n",
    "    finally:\n",
    "        conn.close()\n",
    "\n",
    "# Test the function with valid and invalid data\n",
    "employees = [\n",
    "    (6, 'Frank', 40, 'Finance'),\n",
    "    (7, 'Grace', 29, 'Engineering'),\n",
    "    (8, 'Hannah', 35, 'Marketing'),\n",
    "    (9, 'Ivan', 38, 'Sales'),\n",
    "    (6, 'Jack', 45, 'HR')  # Duplicate ID to cause an error\n",
    "]\n",
    "insert_multiple_employees(employees)"
   ]
  },
  {
   "cell_type": "code",
   "execution_count": 41,
   "id": "531ac193",
   "metadata": {},
   "outputs": [
    {
     "name": "stdout",
     "output_type": "stream",
     "text": [
      "(15, 'alice', 34, 'Finance')\n"
     ]
    }
   ],
   "source": [
    "fetch_all_employees()"
   ]
  },
  {
   "cell_type": "code",
   "execution_count": 42,
   "id": "a3e4495c",
   "metadata": {},
   "outputs": [
    {
     "name": "stdout",
     "output_type": "stream",
     "text": [
      "Error occurred, transaction rolled back.\n",
      "no such table: employees\n"
     ]
    }
   ],
   "source": [
    "def update_multiple_employees_ages(updates):\n",
    "    conn = sqlite3.connect('test.db')\n",
    "    cursor = conn.cursor()\n",
    "    try:\n",
    "        cursor.executemany('''\n",
    "            UPDATE employees\n",
    "            SET age = ?\n",
    "            WHERE id = ?\n",
    "        ''', updates)\n",
    "        conn.commit()\n",
    "        print(\"All employee ages updated successfully.\")\n",
    "    except Exception as e:\n",
    "        conn.rollback()\n",
    "        print(\"Error occurred, transaction rolled back.\")\n",
    "        print(e)\n",
    "    finally:\n",
    "        conn.close()\n",
    "\n",
    "# Test the function with valid and invalid data\n",
    "updates = [\n",
    "    (32, 1),\n",
    "    (26, 2),\n",
    "    (33, 3),\n",
    "    (41, 4),  # Non-existing ID to cause an error\n",
    "    (23, 5)\n",
    "]\n",
    "update_multiple_employees_ages(updates)"
   ]
  },
  {
   "cell_type": "code",
   "execution_count": 43,
   "id": "74073ce1",
   "metadata": {},
   "outputs": [
    {
     "name": "stdout",
     "output_type": "stream",
     "text": [
      "Table 'departments' created successfully.\n"
     ]
    }
   ],
   "source": [
    "def create_departments_table():\n",
    "    conn = sqlite3.connect('test3.db')\n",
    "    cursor = conn.cursor()\n",
    "    cursor.execute('''\n",
    "        CREATE TABLE IF NOT EXISTS departments (\n",
    "            id INTEGER PRIMARY KEY,\n",
    "            name TEXT NOT NULL\n",
    "        )\n",
    "    ''')\n",
    "    conn.commit()\n",
    "    conn.close()\n",
    "    print(\"Table 'departments' created successfully.\")\n",
    "\n",
    "# Test the function\n",
    "create_departments_table()"
   ]
  },
  {
   "cell_type": "code",
   "execution_count": 1,
   "id": "f4bdc55a",
   "metadata": {},
   "outputs": [
    {
     "name": "stdout",
     "output_type": "stream",
     "text": [
      "✅ Table 'employees' modified successfully.\n"
     ]
    }
   ],
   "source": [
    "import sqlite3\n",
    "\n",
    "def add_department_foreign_key():\n",
    "    conn = sqlite3.connect('test3.db')\n",
    "    cursor = conn.cursor()\n",
    "    \n",
    "    cursor.executescript('''\n",
    "        PRAGMA foreign_keys=off;\n",
    "\n",
    "        BEGIN TRANSACTION;\n",
    "\n",
    "        ALTER TABLE employe1 RENAME TO old_employees;\n",
    "\n",
    "        CREATE TABLE employees (\n",
    "            id INTEGER PRIMARY KEY,\n",
    "            name TEXT NOT NULL,\n",
    "            age INTEGER,\n",
    "            dept TEXT,\n",
    "            department_id INTEGER,\n",
    "            FOREIGN KEY(department_id) REFERENCES departments(id)\n",
    "        );\n",
    "\n",
    "        INSERT INTO employees (id, name, age, dept)\n",
    "        SELECT id, name, age, dept FROM old_employees;\n",
    "\n",
    "        DROP TABLE old_employees;\n",
    "\n",
    "        COMMIT;\n",
    "\n",
    "        PRAGMA foreign_keys=on;\n",
    "    ''')\n",
    "    \n",
    "    conn.commit()\n",
    "    conn.close()\n",
    "    print(\"✅ Table 'employees' modified successfully.\")\n",
    "\n",
    "# Test\n",
    "add_department_foreign_key()\n"
   ]
  },
  {
   "cell_type": "code",
   "execution_count": 2,
   "id": "617bf6bc",
   "metadata": {},
   "outputs": [
    {
     "name": "stdout",
     "output_type": "stream",
     "text": [
      "Time taken: 0.0063288211822509766 seconds\n",
      "(15, 'alice', 34, 'Finance', None)\n"
     ]
    }
   ],
   "source": [
    "import time\n",
    "def fetch_employees_name_starts_with_performance(letter):\n",
    "    conn = sqlite3.connect('test3.db')\n",
    "    cursor = conn.cursor()\n",
    "    start_time = time.time()\n",
    "    cursor.execute('SELECT * FROM employees WHERE name LIKE ?', (letter + '%',))\n",
    "    records = cursor.fetchall()\n",
    "    end_time = time.time()\n",
    "    conn.close()\n",
    "    print(\"Time taken: {} seconds\".format(end_time - start_time))\n",
    "    for record in records:\n",
    "        print(record)\n",
    "\n",
    "# Test the function with the index\n",
    "fetch_employees_name_starts_with_performance('A')"
   ]
  },
  {
   "cell_type": "code",
   "execution_count": 4,
   "id": "4133cda0",
   "metadata": {},
   "outputs": [
    {
     "name": "stdout",
     "output_type": "stream",
     "text": [
      "Database backed up successfully.\n"
     ]
    }
   ],
   "source": [
    "import shutil\n",
    "def backup_database():\n",
    "    shutil.copy('test3.db', 'backup.db')\n",
    "    print(\"Database backed up successfully.\")\n",
    "\n",
    "# Test the function\n",
    "backup_database()"
   ]
  },
  {
   "cell_type": "code",
   "execution_count": 5,
   "id": "6dbb4e18",
   "metadata": {},
   "outputs": [
    {
     "name": "stdout",
     "output_type": "stream",
     "text": [
      "Database restored successfully.\n"
     ]
    }
   ],
   "source": [
    "def restore_database():\n",
    "    shutil.copy('backup.db', 'test3.db')\n",
    "    print(\"Database restored successfully.\")\n",
    "\n",
    "# Test the function\n",
    "restore_database()"
   ]
  }
 ],
 "metadata": {
  "kernelspec": {
   "display_name": "base",
   "language": "python",
   "name": "python3"
  },
  "language_info": {
   "codemirror_mode": {
    "name": "ipython",
    "version": 3
   },
   "file_extension": ".py",
   "mimetype": "text/x-python",
   "name": "python",
   "nbconvert_exporter": "python",
   "pygments_lexer": "ipython3",
   "version": "3.12.7"
  }
 },
 "nbformat": 4,
 "nbformat_minor": 5
}
