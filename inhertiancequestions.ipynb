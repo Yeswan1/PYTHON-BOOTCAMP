{
 "cells": [
  {
   "cell_type": "markdown",
   "metadata": {},
   "source": [
    "# Module: Inheritance Assignments\n",
    "## Lesson: Single and Multiple Inheritance\n",
    "### Assignment 1: Single Inheritance Basic\n",
    "\n",
    "Create a base class named `Animal` with attributes `name` and `species`. Create a derived class named `Dog` that inherits from `Animal` and adds an attribute `breed`. Create an object of the `Dog` class and print its attributes.\n",
    "\n",
    "### Assignment 2: Method Overriding in Single Inheritance\n",
    "\n",
    "In the `Dog` class, override the `__str__` method to return a string representation of the object. Create an object of the class and print it.\n",
    "\n",
    "### Assignment 3: Single Inheritance with Additional Methods\n",
    "\n",
    "In the `Dog` class, add a method named `bark` that prints a barking sound. Create an object of the class and call the method.\n",
    "\n",
    "### Assignment 4: Multiple Inheritance Basic\n",
    "\n",
    "Create a base class named `Walker` with a method `walk` that prints a walking message. Create another base class named `Runner` with a method `run` that prints a running message. Create a derived class named `Athlete` that inherits from both `Walker` and `Runner`. Create an object of the `Athlete` class and call both methods.\n",
    "\n",
    "### Assignment 5: Method Resolution Order (MRO) in Multiple Inheritance\n",
    "\n",
    "In the `Athlete` class, override the `walk` method to print a different message. Create an object of the class and call the `walk` method. Use the `super()` function to call the `walk` method of the `Walker` class.\n",
    "\n",
    "### Assignment 6: Multiple Inheritance with Additional Attributes\n",
    "\n",
    "In the `Athlete` class, add an attribute `training_hours` and a method `train` that prints the training hours. Create an object of the class and call the method.\n",
    "\n",
    "### Assignment 7: Diamond Problem in Multiple Inheritance\n",
    "\n",
    "Create a class named `A` with a method `show` that prints a message. Create two derived classes `B` and `C` that inherit from `A` and override the `show` method. Create a class `D` that inherits from both `B` and `C`. Create an object of the `D` class and call the `show` method. Observe the method resolution order.\n",
    "\n",
    "### Assignment 8: Using `super()` in Single Inheritance\n",
    "\n",
    "Create a base class named `Shape` with an attribute `color`. Create a derived class named `Circle` that inherits from `Shape` and adds an attribute `radius`. Use the `super()` function to initialize the attributes. Create an object of the `Circle` class and print its attributes.\n",
    "\n",
    "### Assignment 9: Using `super()` in Multiple Inheritance\n",
    "\n",
    "Create a class named `Person` with an attribute `name`. Create a class named `Employee` with an attribute `employee_id`. Create a derived class `Manager` that inherits from both `Person` and `Employee`. Use the `super()` function to initialize the attributes. Create an object of the `Manager` class and print its attributes.\n",
    "\n",
    "### Assignment 10: Method Overriding and `super()`\n",
    "\n",
    "Create a class named `Vehicle` with a method `start` that prints a starting message. Create a derived class `Car` that overrides the `start` method to print a different message. Use the `super()` function to call the `start` method of the `Vehicle` class. Create an object of the `Car` class and call the `start` method.\n",
    "\n",
    "### Assignment 11: Multiple Inheritance with Different Methods\n",
    "\n",
    "Create a class named `Flyer` with a method `fly` that prints a flying message. Create a class named `Swimmer` with a method `swim` that prints a swimming message. Create a derived class `Superhero` that inherits from both `Flyer` and `Swimmer`. Create an object of the `Superhero` class and call both methods.\n",
    "\n",
    "### Assignment 12: Complex Multiple Inheritance\n",
    "\n",
    "Create a class named `Base1` with an attribute `a`. Create a class named `Base2` with an attribute `b`. Create a class named `Derived` that inherits from both `Base1` and `Base2` and adds an attribute `c`. Initialize all attributes using the `super()` function. Create an object of the `Derived` class and print its attributes.\n",
    "\n",
    "### Assignment 13: Checking Instance Types with Inheritance\n",
    "\n",
    "Create a base class named `Animal` and a derived class named `Cat`. Create objects of both classes and use the `isinstance` function to check the instance types.\n",
    "\n",
    "### Assignment 14: Polymorphism with Inheritance\n",
    "\n",
    "Create a base class named `Bird` with a method `speak`. Create two derived classes `Parrot` and `Penguin` that override the `speak` method. Create a list of `Bird` objects and call the `speak` method on each object to demonstrate polymorphism.\n",
    "\n",
    "### Assignment 15: Combining Single and Multiple Inheritance\n",
    "\n",
    "Create a base class named `Device` with an attribute `brand`. Create a derived class `Phone` that inherits from `Device` and adds an attribute `model`. Create another base class `Camera` with an attribute `resolution`. Create a derived class `Smartphone` that inherits from both `Phone` and `Camera`. Create an object of the `Smartphone` class and print its attributes."
   ]
  },
  {
   "cell_type": "code",
   "execution_count": 1,
   "metadata": {},
   "outputs": [
    {
     "name": "stdout",
     "output_type": "stream",
     "text": [
      "Name: Buddy, Species: Dog, Breed: Golden Retriever\n"
     ]
    }
   ],
   "source": [
    "class Animal:\n",
    "    def __init__(self, name,species):\n",
    "        self.name=name\n",
    "        self.species=species\n",
    "class Dog(Animal):\n",
    "    def __init__(self, name, species,breed):\n",
    "        super().__init__(name,species)\n",
    "        self.breed=breed\n",
    "#test\n",
    "dog=Dog(\"Buddy\", \"Dog\", \"Golden Retriever\")\n",
    "print(f\"Name: {dog.name}, Species: {dog.species}, Breed: {dog.breed}\")"
   ]
  },
  {
   "cell_type": "code",
   "execution_count": 2,
   "id": "c05fa17a",
   "metadata": {},
   "outputs": [
    {
     "data": {
      "text/plain": [
       "'Cat(name=Whiskers, species=Cat, color=Tabby)'"
      ]
     },
     "execution_count": 2,
     "metadata": {},
     "output_type": "execute_result"
    }
   ],
   "source": [
    "class Cat(Animal):\n",
    "    def __init__(self, name, species, color):\n",
    "        super().__init__(name, species)\n",
    "        self.color = color\n",
    "    def __str__(self):\n",
    "        return f\"Cat(name={self.name}, species={self.species}, color={self.color})\"\n",
    "x1=Cat(\"Whiskers\", \"Cat\", \"Tabby\")\n",
    "x1.__str__()"
   ]
  },
  {
   "cell_type": "code",
   "execution_count": 3,
   "id": "96235afd",
   "metadata": {},
   "outputs": [
    {
     "data": {
      "text/plain": [
       "'bow bow'"
      ]
     },
     "execution_count": 3,
     "metadata": {},
     "output_type": "execute_result"
    }
   ],
   "source": [
    "class Dog(Animal):\n",
    "    def __init__(self,name,species,age):\n",
    "        super().__init__(name,species)\n",
    "        self.age=age\n",
    "    def bark(self):\n",
    "        return \"bow bow\"\n",
    "x2=Dog(\"jjj\",\"sdds\",12)\n",
    "x2.bark()    "
   ]
  },
  {
   "cell_type": "code",
   "execution_count": 39,
   "id": "8b1eeaa4",
   "metadata": {},
   "outputs": [
    {
     "name": "stdout",
     "output_type": "stream",
     "text": [
      "he is running\n"
     ]
    }
   ],
   "source": [
    "class walker:\n",
    "    def walk(self):\n",
    "        print( \"he is walking\")\n",
    "    \n",
    "class runner:\n",
    "    def run(self):\n",
    "        print(\"he is running\")\n",
    "    \n",
    "class check(walker,runner):\n",
    "    pass\n",
    "\n",
    "a3=check()\n",
    "a3.run()\n"
   ]
  },
  {
   "cell_type": "code",
   "execution_count": 40,
   "id": "4b1a708e",
   "metadata": {},
   "outputs": [
    {
     "name": "stdout",
     "output_type": "stream",
     "text": [
      "walk fast\n",
      "he is walking\n"
     ]
    }
   ],
   "source": [
    "class Athelete(walker,runner):\n",
    "    def walk(self):\n",
    "        print(\"walk fast\")\n",
    "        super().walk()\n",
    "ath=Athelete()\n",
    "ath.walk()"
   ]
  },
  {
   "cell_type": "code",
   "execution_count": 58,
   "id": "08321da7",
   "metadata": {},
   "outputs": [
    {
     "data": {
      "text/plain": [
       "4"
      ]
     },
     "execution_count": 58,
     "metadata": {},
     "output_type": "execute_result"
    }
   ],
   "source": [
    "class Athelete(walker,runner):\n",
    "    def __init__(self,th):\n",
    "        self.th=th\n",
    "    def train(self):\n",
    "        return self.th\n",
    "athq=Athelete(4)\n",
    "athq.train()"
   ]
  },
  {
   "cell_type": "code",
   "execution_count": 88,
   "id": "165f49d3",
   "metadata": {},
   "outputs": [
    {
     "data": {
      "text/plain": [
       "'macha'"
      ]
     },
     "execution_count": 88,
     "metadata": {},
     "output_type": "execute_result"
    }
   ],
   "source": [
    "class A:\n",
    "    def b(self):\n",
    "        return \"man\"\n",
    "class B(A):\n",
    "    def b(self):\n",
    "        return \"err\"\n",
    "class c(A):\n",
    "    def b(self):\n",
    "        return \"man\"\n",
    "class D(B,c):\n",
    "    def b(self):\n",
    "        return \"macha\"\n",
    "ss=D()\n",
    "ss.b()\n"
   ]
  },
  {
   "cell_type": "code",
   "execution_count": 89,
   "id": "9709b5ab",
   "metadata": {},
   "outputs": [
    {
     "name": "stdout",
     "output_type": "stream",
     "text": [
      "white 5\n"
     ]
    }
   ],
   "source": [
    "class shape:\n",
    "    def __init__(self,color):\n",
    "        self.color=color\n",
    "class circle(shape):\n",
    "    def __init__(self, color,radius):\n",
    "        super().__init__(color)\n",
    "        self.radius=radius\n",
    "c1=circle(\"white\",5)\n",
    "print(c1.color,c1.radius)"
   ]
  },
  {
   "cell_type": "code",
   "execution_count": 107,
   "id": "1c2b8a9c",
   "metadata": {},
   "outputs": [
    {
     "name": "stdout",
     "output_type": "stream",
     "text": [
      "John M123\n"
     ]
    }
   ],
   "source": [
    "class Person:\n",
    "    def __init__(self, name):\n",
    "        self.name = name\n",
    "\n",
    "class Employee:\n",
    "    def __init__(self, employee_id,f):\n",
    "        self.employee_id = employee_id\n",
    "\n",
    "class Manager(Person, Employee):\n",
    "    def __init__(self, name, employee_id,f):\n",
    "        super().__init__(name)\n",
    "        Employee.__init__(self,employee_id,f)\n",
    "\n",
    "# Test\n",
    "manager = Manager('John', 'M123',1)\n",
    "print(manager.name, manager.employee_id)"
   ]
  },
  {
   "cell_type": "code",
   "execution_count": 108,
   "id": "cd21ff6f",
   "metadata": {},
   "outputs": [
    {
     "name": "stdout",
     "output_type": "stream",
     "text": [
      "Car starting...\n",
      "Vehicle starting...\n"
     ]
    }
   ],
   "source": [
    "class Vehicle:\n",
    "    def start(self):\n",
    "        print(\"Vehicle starting...\")\n",
    "\n",
    "class Car(Vehicle):\n",
    "    def start(self):\n",
    "        print(\"Car starting...\")\n",
    "        super().start()\n",
    "\n",
    "# Test\n",
    "car = Car()\n",
    "car.start()"
   ]
  },
  {
   "cell_type": "code",
   "execution_count": 110,
   "id": "1ff34914",
   "metadata": {},
   "outputs": [
    {
     "name": "stdout",
     "output_type": "stream",
     "text": [
      "Flying high!\n",
      "Swimming fast!\n"
     ]
    }
   ],
   "source": [
    "class Flyer:\n",
    "    def fly(self):\n",
    "        print(\"Flying high!\")\n",
    "class swim:\n",
    "    def swim(self):\n",
    "        print(\"Swimming fast!\")\n",
    "\n",
    "class sh(Flyer, swim):\n",
    "    pass\n",
    "\n",
    "c=sh()\n",
    "c.fly()\n",
    "c.swim()"
   ]
  },
  {
   "cell_type": "code",
   "execution_count": 127,
   "id": "dcff1920",
   "metadata": {},
   "outputs": [
    {
     "name": "stdout",
     "output_type": "stream",
     "text": [
      "1 2 3\n"
     ]
    }
   ],
   "source": [
    "class Base1:\n",
    "    def __init__(self,a):\n",
    "        self.a=a\n",
    "class Base2:\n",
    "    def __init__(self,b):\n",
    "        self.b=b\n",
    "class derive(Base1,Base2):\n",
    "    def __init__(self,a,b,c):\n",
    "        super().__init__(a)\n",
    "        Base2.__init__(self,b)\n",
    "        self.c=c\n",
    "d1=derive(1,2,3)\n",
    "print(d1.a,d1.b,d1.c)"
   ]
  },
  {
   "cell_type": "code",
   "execution_count": 132,
   "id": "49437820",
   "metadata": {},
   "outputs": [
    {
     "name": "stdout",
     "output_type": "stream",
     "text": [
      "True\n",
      "True\n",
      "True\n",
      "False\n"
     ]
    }
   ],
   "source": [
    "class Animal:\n",
    "    pass\n",
    "\n",
    "class Cat(Animal):\n",
    "    pass\n",
    "\n",
    "# Test\n",
    "animal = Animal()\n",
    "cat = Cat()\n",
    "print(isinstance(animal, Animal))  # True\n",
    "print(isinstance(cat, Animal))  # True\n",
    "print(isinstance(cat, Cat))  # True\n",
    "print(isinstance(animal, Cat))  # False"
   ]
  },
  {
   "cell_type": "code",
   "execution_count": 133,
   "id": "69f0d468",
   "metadata": {},
   "outputs": [
    {
     "name": "stdout",
     "output_type": "stream",
     "text": [
      "Parrot says: Squawk!\n",
      "Penguin says: Honk!\n"
     ]
    }
   ],
   "source": [
    "class Bird:\n",
    "    def speak(self):\n",
    "        pass\n",
    "\n",
    "class Parrot(Bird):\n",
    "    def speak(self):\n",
    "        print(\"Parrot says: Squawk!\")\n",
    "\n",
    "class Penguin(Bird):\n",
    "    def speak(self):\n",
    "        print(\"Penguin says: Honk!\")\n",
    "\n",
    "# Test\n",
    "birds = [Parrot(), Penguin()]\n",
    "for bird in birds:\n",
    "    bird.speak()"
   ]
  },
  {
   "cell_type": "code",
   "execution_count": 134,
   "id": "0b10eab1",
   "metadata": {},
   "outputs": [
    {
     "name": "stdout",
     "output_type": "stream",
     "text": [
      "Apple iPhone 12 12 MP\n"
     ]
    }
   ],
   "source": [
    "class Device:\n",
    "    def __init__(self, brand):\n",
    "        self.brand = brand\n",
    "\n",
    "class Phone(Device):\n",
    "    def __init__(self, brand, model):\n",
    "        super().__init__(brand)\n",
    "        self.model = model\n",
    "\n",
    "class Camera:\n",
    "    def __init__(self, resolution):\n",
    "        self.resolution = resolution\n",
    "\n",
    "class Smartphone(Phone, Camera):\n",
    "    def __init__(self, brand, model, resolution):\n",
    "        Phone.__init__(self, brand, model)\n",
    "        Camera.__init__(self, resolution)\n",
    "\n",
    "# Test\n",
    "smartphone = Smartphone('Apple', 'iPhone 12', '12 MP')\n",
    "print(smartphone.brand, smartphone.model, smartphone.resolution)"
   ]
  }
 ],
 "metadata": {
  "kernelspec": {
   "display_name": "base",
   "language": "python",
   "name": "python3"
  },
  "language_info": {
   "codemirror_mode": {
    "name": "ipython",
    "version": 3
   },
   "file_extension": ".py",
   "mimetype": "text/x-python",
   "name": "python",
   "nbconvert_exporter": "python",
   "pygments_lexer": "ipython3",
   "version": "3.12.7"
  }
 },
 "nbformat": 4,
 "nbformat_minor": 5
}
