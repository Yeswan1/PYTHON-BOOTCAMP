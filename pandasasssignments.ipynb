{
 "cells": [
  {
   "cell_type": "markdown",
   "metadata": {},
   "source": [
    "# Module: Pandas Assignments\n",
    "## Lesson: Pandas\n",
    "### Assignment 1: DataFrame Creation and Indexing\n",
    "\n",
    "1. Create a Pandas DataFrame with 4 columns and 6 rows filled with random integers. Set the index to be the first column.\n",
    "2. Create a Pandas DataFrame with columns 'A', 'B', 'C' and index 'X', 'Y', 'Z'. Fill the DataFrame with random integers and access the element at row 'Y' and column 'B'.\n",
    "\n",
    "### Assignment 2: DataFrame Operations\n",
    "\n",
    "1. Create a Pandas DataFrame with 3 columns and 5 rows filled with random integers. Add a new column that is the product of the first two columns.\n",
    "2. Create a Pandas DataFrame with 3 columns and 4 rows filled with random integers. Compute the row-wise and column-wise sum.\n",
    "\n",
    "### Assignment 3: Data Cleaning\n",
    "\n",
    "1. Create a Pandas DataFrame with 3 columns and 5 rows filled with random integers. Introduce some NaN values. Fill the NaN values with the mean of the respective columns.\n",
    "2. Create a Pandas DataFrame with 4 columns and 6 rows filled with random integers. Introduce some NaN values. Drop the rows with any NaN values.\n",
    "\n",
    "### Assignment 4: Data Aggregation\n",
    "\n",
    "1. Create a Pandas DataFrame with 2 columns: 'Category' and 'Value'. Fill the 'Category' column with random categories ('A', 'B', 'C') and the 'Value' column with random integers. Group the DataFrame by 'Category' and compute the sum and mean of 'Value' for each category.\n",
    "2. Create a Pandas DataFrame with 3 columns: 'Product', 'Category', and 'Sales'. Fill the DataFrame with random data. Group the DataFrame by 'Category' and compute the total sales for each category.\n",
    "\n",
    "### Assignment 5: Merging DataFrames\n",
    "\n",
    "1. Create two Pandas DataFrames with a common column. Merge the DataFrames using the common column.\n",
    "2. Create two Pandas DataFrames with different columns. Concatenate the DataFrames along the rows and along the columns.\n",
    "\n",
    "### Assignment 6: Time Series Analysis\n",
    "\n",
    "1. Create a Pandas DataFrame with a datetime index and one column filled with random integers. Resample the DataFrame to compute the monthly mean of the values.\n",
    "2. Create a Pandas DataFrame with a datetime index ranging from '2021-01-01' to '2021-12-31' and one column filled with random integers. Compute the rolling mean with a window of 7 days.\n",
    "\n",
    "### Assignment 7: MultiIndex DataFrame\n",
    "\n",
    "1. Create a Pandas DataFrame with a MultiIndex (hierarchical index). Perform some basic indexing and slicing operations on the MultiIndex DataFrame.\n",
    "2. Create a Pandas DataFrame with MultiIndex consisting of 'Category' and 'SubCategory'. Fill the DataFrame with random data and compute the sum of values for each 'Category' and 'SubCategory'.\n",
    "\n",
    "### Assignment 8: Pivot Tables\n",
    "\n",
    "1. Create a Pandas DataFrame with columns 'Date', 'Category', and 'Value'. Create a pivot table to compute the sum of 'Value' for each 'Category' by 'Date'.\n",
    "2. Create a Pandas DataFrame with columns 'Year', 'Quarter', and 'Revenue'. Create a pivot table to compute the mean 'Revenue' for each 'Quarter' by 'Year'.\n",
    "\n",
    "### Assignment 9: Applying Functions\n",
    "\n",
    "1. Create a Pandas DataFrame with 3 columns and 5 rows filled with random integers. Apply a function that doubles the values of the DataFrame.\n",
    "2. Create a Pandas DataFrame with 3 columns and 6 rows filled with random integers. Apply a lambda function to create a new column that is the sum of the existing columns.\n",
    "\n",
    "### Assignment 10: Working with Text Data\n",
    "\n",
    "1. Create a Pandas Series with 5 random text strings. Convert all the strings to uppercase.\n",
    "2. Create a Pandas Series with 5 random text strings. Extract the first three characters of each string.\n"
   ]
  },
  {
   "cell_type": "code",
   "execution_count": 4,
   "metadata": {},
   "outputs": [
    {
     "name": "stdout",
     "output_type": "stream",
     "text": [
      "og\n",
      "DataFrame with new index:\n",
      "     B   C   D\n",
      "A             \n",
      "51  65  42  37\n",
      "16  39   9  51\n",
      "77  64  82  76\n",
      "52  93  15  62\n",
      "13  59  28  47\n",
      "14  94  17  23\n"
     ]
    }
   ],
   "source": [
    "import pandas as pd\n",
    "import numpy as np\n",
    "df=pd.DataFrame(np.random.randint(1,100,size=(6,4)),columns=['A','B','C','D'])\n",
    "print(\"og\")\n",
    "df.set_index('A',inplace=True)\n",
    "print(\"DataFrame with new index:\")\n",
    "print(df)"
   ]
  },
  {
   "cell_type": "code",
   "execution_count": 9,
   "id": "a13392e0",
   "metadata": {},
   "outputs": [
    {
     "name": "stdout",
     "output_type": "stream",
     "text": [
      "    A   B   C\n",
      "X  84  75  51\n",
      "Y  30  35  52\n",
      "Z  32  53  95\n",
      "35\n"
     ]
    }
   ],
   "source": [
    "df=pd.DataFrame(np.random.randint(1,100,size=(3,3)),columns=['A','B','C'],index=['X','Y','Z'])\n",
    "print(df)\n",
    "\n",
    "ele=df.at['Y','B']\n",
    "print(ele)"
   ]
  },
  {
   "cell_type": "code",
   "execution_count": 10,
   "id": "58e9be96",
   "metadata": {},
   "outputs": [
    {
     "name": "stdout",
     "output_type": "stream",
     "text": [
      "    A   B   C\n",
      "0   7  16   2\n",
      "1  17   3   5\n",
      "2  28  29  18\n",
      "    A   B   C  D\n",
      "0   7  16   2  3\n",
      "1  17   3   5  3\n",
      "2  28  29  18  3\n"
     ]
    }
   ],
   "source": [
    "df=pd.DataFrame(np.random.randint(1,30,size=(3,3)),columns=['A','B','C'])\n",
    "print(df)\n",
    "\n",
    "df['D']=3\n",
    "print(df)"
   ]
  },
  {
   "cell_type": "code",
   "execution_count": 11,
   "id": "94c73386",
   "metadata": {},
   "outputs": [
    {
     "name": "stdout",
     "output_type": "stream",
     "text": [
      "    A   B   C\n",
      "0  18   7  37\n",
      "1  35  13  38\n",
      "2  37  11  29\n",
      "3  29  27  29\n",
      "0    62\n",
      "1    86\n",
      "2    77\n",
      "3    85\n",
      "dtype: int64\n",
      "A    119\n",
      "B     58\n",
      "C    133\n",
      "dtype: int64\n"
     ]
    }
   ],
   "source": [
    "df=pd.DataFrame(np.random.randint(1,50,size=(4,3)),columns=['A','B','C'])\n",
    "print(df)\n",
    "\n",
    "row_sum=df.sum(axis=1)\n",
    "col_sum=df.sum(axis=0)\n",
    "\n",
    "print(row_sum)\n",
    "print(col_sum)"
   ]
  },
  {
   "cell_type": "code",
   "execution_count": 12,
   "id": "7948de84",
   "metadata": {},
   "outputs": [
    {
     "name": "stdout",
     "output_type": "stream",
     "text": [
      "    A   B   C\n",
      "0  47  46  21\n",
      "1  48  10  17\n",
      "2  33  24  28\n",
      "3  13  32  45\n",
      "4  43   2  11\n",
      "DataFrame with NaN values:\n",
      "      A     B     C\n",
      "0  47.0   NaN  21.0\n",
      "1  48.0  10.0  17.0\n",
      "2  33.0  24.0   NaN\n",
      "3  13.0  32.0  45.0\n",
      "4   NaN   2.0  11.0\n",
      "       A     B     C\n",
      "0  47.00  17.0  21.0\n",
      "1  48.00  10.0  17.0\n",
      "2  33.00  24.0  23.5\n",
      "3  13.00  32.0  45.0\n",
      "4  35.25   2.0  11.0\n"
     ]
    }
   ],
   "source": [
    "df=pd.DataFrame(np.random.randint(1,50,size=(5,3)),columns=['A','B','C'])\n",
    "print(df)\n",
    "\n",
    "df.iloc[0,1]=np.nan\n",
    "df.iloc[2, 2] = np.nan\n",
    "df.iloc[4, 0] = np.nan\n",
    "print(\"DataFrame with NaN values:\")\n",
    "print(df)\n",
    "\n",
    "df.fillna(df.mean(),inplace=True)\n",
    "print(df)"
   ]
  },
  {
   "cell_type": "code",
   "execution_count": 14,
   "id": "60582112",
   "metadata": {},
   "outputs": [
    {
     "name": "stdout",
     "output_type": "stream",
     "text": [
      "    A   B   C   D\n",
      "0  29  64  94   4\n",
      "1  78  71  15  59\n",
      "2  12  70  46  11\n",
      "3   2  93  17  11\n",
      "4   8  34  13  69\n",
      "5  49  89  75  82\n",
      "DataFrame with NaN values:\n",
      "      A     B     C   D\n",
      "0  29.0  64.0  94.0   4\n",
      "1  78.0  71.0   NaN  59\n",
      "2  12.0  70.0  46.0  11\n",
      "3   NaN  93.0  17.0  11\n",
      "4   8.0  34.0  13.0  69\n",
      "5  49.0   NaN  75.0  82\n",
      "DataFrame with NaN values dropped:\n",
      "      A     B     C   D\n",
      "0  29.0  64.0  94.0   4\n",
      "2  12.0  70.0  46.0  11\n",
      "4   8.0  34.0  13.0  69\n"
     ]
    }
   ],
   "source": [
    "df=pd.DataFrame(np.random.randint(1,100,size=(6,4)),columns=['A','B','C','D'])\n",
    "print(df)\n",
    "df.iloc[1, 2] = np.nan\n",
    "df.iloc[3, 0] = np.nan\n",
    "df.iloc[5, 1] = np.nan\n",
    "print(\"DataFrame with NaN values:\")\n",
    "print(df)\n",
    "\n",
    "# Drop the rows with any NaN values\n",
    "df.dropna(inplace=True)\n",
    "print(\"DataFrame with NaN values dropped:\")\n",
    "print(df)"
   ]
  },
  {
   "cell_type": "code",
   "execution_count": 15,
   "id": "baa4a251",
   "metadata": {},
   "outputs": [
    {
     "name": "stdout",
     "output_type": "stream",
     "text": [
      "  Category  Value\n",
      "0        C     91\n",
      "1        C     91\n",
      "2        B     44\n",
      "3        C     48\n",
      "4        A     51\n",
      "5        A     29\n",
      "6        B     64\n",
      "7        C     64\n",
      "8        A     55\n",
      "9        B     33\n"
     ]
    }
   ],
   "source": [
    "df=pd.DataFrame({'Category': np.random.choice(['A', 'B', 'C'], size=10), 'Value': np.random.randint(1, 100, size=10)})\n",
    "grouped=df.groupby('Category')['Value'].agg(['sum','mean'])\n",
    "print(df)"
   ]
  },
  {
   "cell_type": "code",
   "execution_count": 19,
   "id": "096e193f",
   "metadata": {},
   "outputs": [
    {
     "name": "stdout",
     "output_type": "stream",
     "text": [
      "Original DataFrame:\n",
      "  product Category  Sales\n",
      "0   prod1        C     94\n",
      "1   prod2        B     74\n",
      "2   prod3        B     92\n",
      "3   prod2        A     34\n",
      "4   prod1        B     25\n",
      "5   prod1        A     59\n",
      "6   prod3        B     66\n",
      "7   prod3        A     27\n",
      "8   prod2        A     19\n",
      "9   prod1        A     93\n",
      "Category\n",
      "A    232\n",
      "B    257\n",
      "C     94\n",
      "Name: Sales, dtype: int32\n"
     ]
    }
   ],
   "source": [
    "df=pd.DataFrame({'product':np.random.choice(['prod1','prod2','prod3'],size=10),'Category':np.random.choice(['A','B','C'],size=10),'Sales': np.random.randint(1, 100, size=10)})\n",
    "print(\"Original DataFrame:\")\n",
    "print(df)\n",
    "\n",
    "grouped=df.groupby('Category')['Sales'].sum()\n",
    "print(grouped)"
   ]
  },
  {
   "cell_type": "code",
   "execution_count": 37,
   "id": "7b464bca",
   "metadata": {},
   "outputs": [
    {
     "name": "stdout",
     "output_type": "stream",
     "text": [
      "DataFrame 1:\n",
      "  Key  Value1\n",
      "0   A      35\n",
      "1   B      66\n",
      "2   C      97\n",
      "3   D      29\n",
      "DataFrame 2:\n",
      "  Key  Value2\n",
      "0   A      27\n",
      "1   B      30\n",
      "2   C       3\n",
      "3   E      51\n",
      "  Key  Value1  Value2\n",
      "0   A      35      27\n",
      "1   B      66      30\n",
      "2   C      97       3\n"
     ]
    }
   ],
   "source": [
    "# Create two Pandas DataFrames with a common column\n",
    "df1 = pd.DataFrame({'Key': ['A', 'B', 'C', 'D'], 'Value1': np.random.randint(1, 100, size=4)})\n",
    "df2 = pd.DataFrame({'Key': ['A', 'B', 'C', 'E'], 'Value2': np.random.randint(1, 100, size=4)})\n",
    "print(\"DataFrame 1:\")\n",
    "print(df1)\n",
    "print(\"DataFrame 2:\")\n",
    "print(df2)\n",
    "\n",
    "merged=pd.merge(df1,df2,on='Key')\n",
    "print(merged)"
   ]
  },
  {
   "cell_type": "code",
   "execution_count": 21,
   "id": "8cb5cc67",
   "metadata": {},
   "outputs": [
    {
     "name": "stdout",
     "output_type": "stream",
     "text": [
      "DataFrame 1:\n",
      "    A   B\n",
      "0  25  22\n",
      "1  78  77\n",
      "2  83  59\n",
      "DataFrame 2:\n",
      "    C   D\n",
      "0  83  95\n",
      "1  16  52\n",
      "2  99  55\n",
      "Concatenated DataFrame (rows):\n",
      "      A     B     C     D\n",
      "0  25.0  22.0   NaN   NaN\n",
      "1  78.0  77.0   NaN   NaN\n",
      "2  83.0  59.0   NaN   NaN\n",
      "0   NaN   NaN  83.0  95.0\n",
      "1   NaN   NaN  16.0  52.0\n",
      "2   NaN   NaN  99.0  55.0\n",
      "Concatenated DataFrame (columns):\n",
      "    A   B   C   D\n",
      "0  25  22  83  95\n",
      "1  78  77  16  52\n",
      "2  83  59  99  55\n"
     ]
    }
   ],
   "source": [
    "# Create two Pandas DataFrames with different columns\n",
    "df1 = pd.DataFrame({'A': np.random.randint(1, 100, size=3), 'B': np.random.randint(1, 100, size=3)})\n",
    "df2 = pd.DataFrame({'C': np.random.randint(1, 100, size=3), 'D': np.random.randint(1, 100, size=3)})\n",
    "print(\"DataFrame 1:\")\n",
    "print(df1)\n",
    "print(\"DataFrame 2:\")\n",
    "print(df2)\n",
    "\n",
    "# Concatenate the DataFrames along the rows\n",
    "concat_rows = pd.concat([df1, df2], axis=0)\n",
    "print(\"Concatenated DataFrame (rows):\")\n",
    "print(concat_rows)\n",
    "\n",
    "# Concatenate the DataFrames along the columns\n",
    "concat_columns = pd.concat([df1, df2], axis=1)\n",
    "print(\"Concatenated DataFrame (columns):\")\n",
    "print(concat_columns)"
   ]
  },
  {
   "cell_type": "code",
   "execution_count": 27,
   "id": "ce21e96f",
   "metadata": {},
   "outputs": [
    {
     "name": "stdout",
     "output_type": "stream",
     "text": [
      "            data\n",
      "date            \n",
      "2021-01-01    53\n",
      "2021-01-02    82\n",
      "2021-01-03     4\n",
      "2021-01-04    70\n",
      "2021-01-05    85\n",
      "...          ...\n",
      "2021-12-27    84\n",
      "2021-12-28    40\n",
      "2021-12-29    13\n",
      "2021-12-30    59\n",
      "2021-12-31    42\n",
      "\n",
      "[365 rows x 1 columns]\n",
      "                 data\n",
      "date                 \n",
      "2021-01-31  43.129032\n",
      "2021-02-28  57.357143\n",
      "2021-03-31  56.290323\n",
      "2021-04-30  59.000000\n",
      "2021-05-31  55.387097\n",
      "2021-06-30  49.600000\n",
      "2021-07-31  55.290323\n",
      "2021-08-31  55.225806\n",
      "2021-09-30  37.066667\n",
      "2021-10-31  53.064516\n",
      "2021-11-30  40.533333\n",
      "2021-12-31  44.806452\n"
     ]
    }
   ],
   "source": [
    "date_rng=pd.date_range(start='2021-01-01', end='2021-12-31', freq='D')\n",
    "df=pd.DataFrame(date_rng,columns=['date'])\n",
    "df['data'] = np.random.randint(0, 100, size=(len(date_rng)))\n",
    "df.set_index('date',inplace=True)\n",
    "print(df)\n",
    "\n",
    "monthly_mean=df.resample('ME').mean()\n",
    "print(monthly_mean)"
   ]
  },
  {
   "cell_type": "code",
   "execution_count": 28,
   "id": "a88b8a96",
   "metadata": {},
   "outputs": [
    {
     "name": "stdout",
     "output_type": "stream",
     "text": [
      "Original DataFrame:\n",
      "            data\n",
      "date            \n",
      "2021-01-01    55\n",
      "2021-01-02    36\n",
      "2021-01-03    51\n",
      "2021-01-04    29\n",
      "2021-01-05    99\n",
      "...          ...\n",
      "2021-12-27    71\n",
      "2021-12-28    21\n",
      "2021-12-29    26\n",
      "2021-12-30    67\n",
      "2021-12-31    17\n",
      "\n",
      "[365 rows x 1 columns]\n",
      "                 data\n",
      "date                 \n",
      "2021-01-01        NaN\n",
      "2021-01-02        NaN\n",
      "2021-01-03        NaN\n",
      "2021-01-04        NaN\n",
      "2021-01-05        NaN\n",
      "...               ...\n",
      "2021-12-27  64.142857\n",
      "2021-12-28  57.857143\n",
      "2021-12-29  57.285714\n",
      "2021-12-30  55.285714\n",
      "2021-12-31  44.142857\n",
      "\n",
      "[365 rows x 1 columns]\n"
     ]
    }
   ],
   "source": [
    "date_rng=pd.date_range(start='2021-01-01',end='2021-12-31',freq='D')\n",
    "df=pd.DataFrame(date_rng,columns=['date'])\n",
    "df['data'] = np.random.randint(0, 100, size=(len(date_rng)))\n",
    "df.set_index('date', inplace=True)\n",
    "print(\"Original DataFrame:\")\n",
    "print(df)\n",
    "\n",
    "rolling_mean=df.rolling(window=7).mean()\n",
    "\n",
    "print(rolling_mean)\n"
   ]
  },
  {
   "cell_type": "code",
   "execution_count": 29,
   "id": "ea3f987e",
   "metadata": {},
   "outputs": [
    {
     "name": "stdout",
     "output_type": "stream",
     "text": [
      "MultiIndex DataFrame:\n",
      "                      Value1  Value2  Value3\n",
      "Category SubCategory                        \n",
      "A        one              93      87      65\n",
      "         two              22       4      18\n",
      "B        one              81      85      12\n",
      "         two               2      57      27\n",
      "Indexing at Category 'A':\n",
      "             Value1  Value2  Value3\n",
      "SubCategory                        \n",
      "one              93      87      65\n",
      "two              22       4      18\n",
      "Slicing at Category 'B' and SubCategory 'two':\n",
      "Value1     2\n",
      "Value2    57\n",
      "Value3    27\n",
      "Name: (B, two), dtype: int32\n"
     ]
    }
   ],
   "source": [
    "# Create a Pandas DataFrame with a MultiIndex (hierarchical index)\n",
    "arrays = [['A', 'A', 'B', 'B'], ['one', 'two', 'one', 'two']]\n",
    "index = pd.MultiIndex.from_arrays(arrays, names=('Category', 'SubCategory'))\n",
    "df = pd.DataFrame(np.random.randint(1, 100, size=(4, 3)), index=index, columns=['Value1', 'Value2', 'Value3'])\n",
    "print(\"MultiIndex DataFrame:\")\n",
    "print(df)\n",
    "\n",
    "# Basic indexing and slicing operations\n",
    "print(\"Indexing at Category 'A':\")\n",
    "print(df.loc['A'])\n",
    "\n",
    "print(\"Slicing at Category 'B' and SubCategory 'two':\")\n",
    "print(df.loc[('B', 'two')])"
   ]
  },
  {
   "cell_type": "code",
   "execution_count": 42,
   "id": "e49d9400",
   "metadata": {},
   "outputs": [
    {
     "name": "stdout",
     "output_type": "stream",
     "text": [
      "MultiIndex DataFrame:\n",
      "                      Value1  Value2  Value3\n",
      "Category SubCategory                        \n",
      "A        one              19      43      44\n",
      "         two              35      44      88\n",
      "B        one              61       3      26\n",
      "         two              43      62      52\n",
      "C        one              51       5      80\n",
      "         two              11      99      21\n",
      "Sum of values:\n",
      "                      Value1  Value2  Value3\n",
      "Category SubCategory                        \n",
      "A        one              19      43      44\n",
      "         two              35      44      88\n",
      "B        one              61       3      26\n",
      "         two              43      62      52\n",
      "C        one              51       5      80\n",
      "         two              11      99      21\n"
     ]
    }
   ],
   "source": [
    "# Create a Pandas DataFrame with MultiIndex consisting of 'Category' and 'SubCategory'\n",
    "arrays = [['A', 'A', 'B', 'B', 'C', 'C'], ['one', 'two', 'one', 'two', 'one', 'two']]\n",
    "index = pd.MultiIndex.from_arrays(arrays, names=('Category', 'SubCategory'))\n",
    "df = pd.DataFrame(np.random.randint(1, 100, size=(6, 3)), index=index, columns=['Value1', 'Value2', 'Value3'])\n",
    "print(\"MultiIndex DataFrame:\")\n",
    "print(df)\n",
    "\n",
    "# Compute the sum of values for each 'Category' and 'SubCategory'\n",
    "sum_values = df.groupby(['Category', 'SubCategory']).sum()\n",
    "print(\"Sum of values:\")\n",
    "print(sum_values)"
   ]
  },
  {
   "cell_type": "code",
   "execution_count": 44,
   "id": "d39e063d",
   "metadata": {},
   "outputs": [
    {
     "name": "stdout",
     "output_type": "stream",
     "text": [
      "Original DataFrame:\n",
      "Category       A     B     C\n",
      "Date                        \n",
      "2021-01-04   NaN  72.0   NaN\n",
      "2021-01-13  11.0   NaN   NaN\n",
      "2021-02-08   NaN   NaN  65.0\n",
      "2021-03-10   NaN  60.0   NaN\n",
      "2021-04-03   NaN  53.0   NaN\n",
      "2021-04-26   NaN   NaN  89.0\n",
      "2021-05-11   NaN  53.0   NaN\n",
      "2021-05-16   NaN   NaN  85.0\n",
      "2021-05-22  14.0   NaN   NaN\n",
      "2021-06-05   NaN   NaN  96.0\n",
      "2021-06-09   NaN  32.0   NaN\n",
      "2021-06-29   NaN   NaN  31.0\n",
      "2021-08-06   NaN  12.0   NaN\n",
      "2021-09-02  78.0   NaN   NaN\n",
      "2021-09-06   NaN   NaN  68.0\n",
      "2021-09-22   NaN  87.0   NaN\n",
      "2021-10-03   NaN   NaN  52.0\n",
      "2021-10-08   NaN  62.0   NaN\n",
      "2021-11-27   NaN   NaN  95.0\n",
      "2021-12-27  17.0   NaN   NaN\n"
     ]
    }
   ],
   "source": [
    "data_rng=pd.date_range(start='2021-01-01',end=\"2021-12-31\",freq='D')\n",
    "df=pd.DataFrame({'Date':np.random.choice(data_rng,size=20),'Category':np.random.choice(['A','B','C'],size=20),'Value': np.random.randint(1, 100, size=20)})\n",
    "print(\"Original DataFrame:\")\n",
    "\n",
    "\n",
    "pivot_table=df.pivot_table(values='Value', index='Date', columns='Category', aggfunc='sum')\n",
    "print(pivot_table)\n"
   ]
  },
  {
   "cell_type": "code",
   "execution_count": 45,
   "id": "9ede6026",
   "metadata": {},
   "outputs": [
    {
     "name": "stdout",
     "output_type": "stream",
     "text": [
      "    Year Quarter  Revenue\n",
      "0   2022      Q4      814\n",
      "1   2021      Q3      354\n",
      "2   2020      Q2      720\n",
      "3   2022      Q1      670\n",
      "4   2020      Q2      719\n",
      "5   2020      Q2      323\n",
      "6   2020      Q3      933\n",
      "7   2022      Q3      409\n",
      "8   2020      Q1      555\n",
      "9   2020      Q1      941\n",
      "10  2020      Q2      737\n",
      "11  2021      Q3      382\n",
      "Quarter     Q1      Q2     Q3     Q4\n",
      "Year                                \n",
      "2020     748.0  624.75  933.0    NaN\n",
      "2021       NaN     NaN  368.0    NaN\n",
      "2022     670.0     NaN  409.0  814.0\n"
     ]
    }
   ],
   "source": [
    "df=pd.DataFrame({'Year':np.random.choice(['2020','2021','2022'],size=12),'Quarter':np.random.choice(['Q1', 'Q2', 'Q3', 'Q4'], size=12),'Revenue': np.random.randint(1, 1000, size=12)})\n",
    "print(df)\n",
    "pivot_t=df.pivot_table(values='Revenue',index='Year',columns='Quarter',aggfunc='mean')\n",
    "print(pivot_t)"
   ]
  },
  {
   "cell_type": "code",
   "execution_count": 47,
   "id": "f711f3cd",
   "metadata": {},
   "outputs": [
    {
     "name": "stdout",
     "output_type": "stream",
     "text": [
      "    a   b   c\n",
      "0  59  27  85\n",
      "1  98  91  87\n",
      "2   3  56  11\n",
      "3  66  54  44\n",
      "4   7  55  27\n",
      "     a    b    c\n",
      "0  118   54  170\n",
      "1  196  182  174\n",
      "2    6  112   22\n",
      "3  132  108   88\n",
      "4   14  110   54\n"
     ]
    },
    {
     "name": "stderr",
     "output_type": "stream",
     "text": [
      "C:\\Users\\surya\\AppData\\Local\\Temp\\ipykernel_4040\\2772812633.py:3: FutureWarning: DataFrame.applymap has been deprecated. Use DataFrame.map instead.\n",
      "  df_doubled=df.applymap(lambda x:x*2)\n"
     ]
    }
   ],
   "source": [
    "df=pd.DataFrame(np.random.randint(1,100,size=(5,3)),columns=['a','b','c'])\n",
    "print(df)\n",
    "df_doubled=df.applymap(lambda x:x*2)\n",
    "print(df_doubled)"
   ]
  },
  {
   "cell_type": "code",
   "execution_count": 48,
   "id": "cf658bda",
   "metadata": {},
   "outputs": [
    {
     "name": "stdout",
     "output_type": "stream",
     "text": [
      "    A   B   C\n",
      "0  94  89  60\n",
      "1  71  72  28\n",
      "2  23  53  15\n",
      "3  27  70  29\n",
      "4  92  77  96\n",
      "5  70  92  40\n",
      "    A   B   C  new\n",
      "0  94  89  60  243\n",
      "1  71  72  28  171\n",
      "2  23  53  15   91\n",
      "3  27  70  29  126\n",
      "4  92  77  96  265\n",
      "5  70  92  40  202\n"
     ]
    }
   ],
   "source": [
    "df=pd.DataFrame(np.random.randint(1,100,size=(6,3)),columns=['A','B','C'])\n",
    "print(df)\n",
    "df['new']=df.apply(lambda x:x.sum(),axis=1)\n",
    "print(df)"
   ]
  },
  {
   "cell_type": "code",
   "execution_count": 49,
   "id": "a01aea5d",
   "metadata": {},
   "outputs": [
    {
     "name": "stdout",
     "output_type": "stream",
     "text": [
      "Original Series:\n",
      "0         apple\n",
      "1        banana\n",
      "2        cherry\n",
      "3          date\n",
      "4    elderberry\n",
      "dtype: object\n",
      "Uppercase Series:\n",
      "0         APPLE\n",
      "1        BANANA\n",
      "2        CHERRY\n",
      "3          DATE\n",
      "4    ELDERBERRY\n",
      "dtype: object\n"
     ]
    }
   ],
   "source": [
    "text_data = pd.Series(['apple', 'banana', 'cherry', 'date', 'elderberry'])\n",
    "print(\"Original Series:\")\n",
    "print(text_data)\n",
    "\n",
    "# Convert all the strings to uppercase\n",
    "uppercase_data = text_data.str.upper()\n",
    "print(\"Uppercase Series:\")\n",
    "print(uppercase_data)"
   ]
  },
  {
   "cell_type": "code",
   "execution_count": 50,
   "id": "5c613ca5",
   "metadata": {},
   "outputs": [
    {
     "name": "stdout",
     "output_type": "stream",
     "text": [
      "Original Series:\n",
      "0         apple\n",
      "1        banana\n",
      "2        cherry\n",
      "3          date\n",
      "4    elderberry\n",
      "dtype: object\n",
      "three\n",
      "0    app\n",
      "1    ban\n",
      "2    che\n",
      "3    dat\n",
      "4    eld\n",
      "dtype: object\n"
     ]
    }
   ],
   "source": [
    "text_data = pd.Series(['apple', 'banana', 'cherry', 'date', 'elderberry'])\n",
    "print(\"Original Series:\")\n",
    "print(text_data)\n",
    "\n",
    "# Convert all the strings to uppercase\n",
    "uppercase_data = text_data.str[:3]\n",
    "print(\"three\")\n",
    "print(uppercase_data)"
   ]
  }
 ],
 "metadata": {
  "kernelspec": {
   "display_name": "base",
   "language": "python",
   "name": "python3"
  },
  "language_info": {
   "codemirror_mode": {
    "name": "ipython",
    "version": 3
   },
   "file_extension": ".py",
   "mimetype": "text/x-python",
   "name": "python",
   "nbconvert_exporter": "python",
   "pygments_lexer": "ipython3",
   "version": "3.12.7"
  }
 },
 "nbformat": 4,
 "nbformat_minor": 5
}
