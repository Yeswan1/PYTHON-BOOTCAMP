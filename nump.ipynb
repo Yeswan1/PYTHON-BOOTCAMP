{
 "cells": [
  {
   "cell_type": "code",
   "execution_count": 3,
   "id": "9de92841",
   "metadata": {},
   "outputs": [
    {
     "name": "stdout",
     "output_type": "stream",
     "text": [
      "[1 2 3 4 5]\n",
      "<class 'numpy.ndarray'>\n",
      "(5,)\n"
     ]
    }
   ],
   "source": [
    "import numpy as np\n",
    "a1=np.array([1,2,3,4,5])\n",
    "print(a1)\n",
    "print(type(a1))\n",
    "print(a1.shape)"
   ]
  },
  {
   "cell_type": "code",
   "execution_count": 4,
   "id": "fb2ab186",
   "metadata": {},
   "outputs": [
    {
     "data": {
      "text/plain": [
       "array([[1, 2, 3, 4, 5]])"
      ]
     },
     "execution_count": 4,
     "metadata": {},
     "output_type": "execute_result"
    }
   ],
   "source": [
    "a2=np.array([1,2,3,4,5])\n",
    "a2.reshape(1,5)"
   ]
  },
  {
   "cell_type": "code",
   "execution_count": 7,
   "id": "5a7b157e",
   "metadata": {},
   "outputs": [
    {
     "name": "stdout",
     "output_type": "stream",
     "text": [
      "[[1 3 4 5]\n",
      " [1 2 3 4]]\n",
      "(2, 4)\n"
     ]
    }
   ],
   "source": [
    "a2=np.array([[1,3,4,5],[1,2,3,4]])\n",
    "print(a2)\n",
    "print(a2.shape)"
   ]
  },
  {
   "cell_type": "code",
   "execution_count": 11,
   "id": "1ed0e451",
   "metadata": {},
   "outputs": [
    {
     "data": {
      "text/plain": [
       "array([[0],\n",
       "       [2],\n",
       "       [4],\n",
       "       [6],\n",
       "       [8]])"
      ]
     },
     "execution_count": 11,
     "metadata": {},
     "output_type": "execute_result"
    }
   ],
   "source": [
    "import numpy as np\n",
    "\n",
    "np.arange(0, 10, 2).reshape(5, 1)\n"
   ]
  },
  {
   "cell_type": "code",
   "execution_count": 16,
   "id": "c562588d",
   "metadata": {},
   "outputs": [
    {
     "data": {
      "text/plain": [
       "array([[1., 1., 1., 1.],\n",
       "       [1., 1., 1., 1.],\n",
       "       [1., 1., 1., 1.]])"
      ]
     },
     "execution_count": 16,
     "metadata": {},
     "output_type": "execute_result"
    }
   ],
   "source": [
    "\n",
    "np.ones((3,4))"
   ]
  },
  {
   "cell_type": "code",
   "execution_count": 17,
   "id": "74ce51a1",
   "metadata": {},
   "outputs": [
    {
     "data": {
      "text/plain": [
       "array([[1., 0., 0.],\n",
       "       [0., 1., 0.],\n",
       "       [0., 0., 1.]])"
      ]
     },
     "execution_count": 17,
     "metadata": {},
     "output_type": "execute_result"
    }
   ],
   "source": [
    "## identity matrix ##\n",
    "np.eye(3)"
   ]
  },
  {
   "cell_type": "code",
   "execution_count": 19,
   "id": "61e9cf56",
   "metadata": {},
   "outputs": [
    {
     "name": "stdout",
     "output_type": "stream",
     "text": [
      "[1 2 3 4 5]\n",
      "(5,)\n",
      "5\n",
      "int32\n",
      "4\n"
     ]
    }
   ],
   "source": [
    "print(a1)\n",
    "print(a1.shape)\n",
    "print(a1.size)\n",
    "print(a1.dtype)\n",
    "print(a1.itemsize)"
   ]
  },
  {
   "cell_type": "code",
   "execution_count": 20,
   "id": "df229049",
   "metadata": {},
   "outputs": [
    {
     "name": "stdout",
     "output_type": "stream",
     "text": [
      "addition [11 22 33 44]\n",
      "sub [ -9 -18 -27 -36]\n",
      "mul [ 10  40  90 160]\n"
     ]
    }
   ],
   "source": [
    "## numpy vectorize operations ##\n",
    "a1 = np.array([1,2,3,4])\n",
    "a2=np.array([10,20,30,40])\n",
    "print(\"addition\",a1+a2)\n",
    "print(\"sub\",a1-a2)\n",
    "print(\"mul\",a1*a2)"
   ]
  },
  {
   "cell_type": "code",
   "execution_count": 21,
   "id": "de9e7219",
   "metadata": {},
   "outputs": [
    {
     "name": "stdout",
     "output_type": "stream",
     "text": [
      "[1.41421356 1.73205081 2.         2.23606798]\n",
      "[  7.3890561   20.08553692  54.59815003 148.4131591 ]\n"
     ]
    }
   ],
   "source": [
    "## universal function ##\n",
    "a3=np.array([2,3,4,5])\n",
    "print(np.sqrt(a3))\n",
    "print(np.exp(a3))"
   ]
  },
  {
   "cell_type": "code",
   "execution_count": 23,
   "id": "50c2060d",
   "metadata": {},
   "outputs": [
    {
     "name": "stdout",
     "output_type": "stream",
     "text": [
      "[[ 1  2  3  4]\n",
      " [ 5  6  7  8]\n",
      " [ 9 10 11 12]]\n"
     ]
    }
   ],
   "source": [
    "##array slicing ##\n",
    "a1=np.array([[1,2,3,4],[5,6,7,8],[9,10,11,12]])\n",
    "print(a1)\n"
   ]
  },
  {
   "cell_type": "code",
   "execution_count": 42,
   "id": "0059dff8",
   "metadata": {},
   "outputs": [
    {
     "data": {
      "text/plain": [
       "array([[ 6,  7],\n",
       "       [10, 11]])"
      ]
     },
     "execution_count": 42,
     "metadata": {},
     "output_type": "execute_result"
    }
   ],
   "source": [
    "\n",
    "a1[1:,1:3]"
   ]
  },
  {
   "cell_type": "code",
   "execution_count": 44,
   "id": "949b2e3a",
   "metadata": {},
   "outputs": [
    {
     "data": {
      "text/plain": [
       "array([[100,   2,   3,   4],\n",
       "       [  5,   6,   7,   8],\n",
       "       [  9,  10,  11,  12]])"
      ]
     },
     "execution_count": 44,
     "metadata": {},
     "output_type": "execute_result"
    }
   ],
   "source": [
    "#modify elements##\n",
    "a1[0,0]=100\n",
    "a1"
   ]
  },
  {
   "cell_type": "code",
   "execution_count": 45,
   "id": "207d00d8",
   "metadata": {},
   "outputs": [
    {
     "data": {
      "text/plain": [
       "array([[100,   2,   3,   4],\n",
       "       [ 50,  50,  50,  50],\n",
       "       [ 50,  50,  50,  50]])"
      ]
     },
     "execution_count": 45,
     "metadata": {},
     "output_type": "execute_result"
    }
   ],
   "source": [
    "a1[1:]=50\n",
    "a1"
   ]
  },
  {
   "cell_type": "code",
   "execution_count": 46,
   "id": "07d308ea",
   "metadata": {},
   "outputs": [
    {
     "name": "stdout",
     "output_type": "stream",
     "text": [
      "3.0\n",
      "1.4142135623730951\n"
     ]
    }
   ],
   "source": [
    "data=np.array([1,2,3,4,5])\n",
    "print(np.mean(data))\n",
    "print(np.std(data))"
   ]
  },
  {
   "cell_type": "code",
   "execution_count": 51,
   "id": "a2d65eae",
   "metadata": {},
   "outputs": [
    {
     "data": {
      "text/plain": [
       "array([2, 3, 4, 5])"
      ]
     },
     "execution_count": 51,
     "metadata": {},
     "output_type": "execute_result"
    }
   ],
   "source": [
    "a4=np.array([1,2,3,4,5])\n",
    "a4[(a4>=2)& (a4<=5)]\n"
   ]
  },
  {
   "cell_type": "code",
   "execution_count": null,
   "id": "18e9658c",
   "metadata": {},
   "outputs": [],
   "source": []
  }
 ],
 "metadata": {
  "kernelspec": {
   "display_name": "base",
   "language": "python",
   "name": "python3"
  },
  "language_info": {
   "codemirror_mode": {
    "name": "ipython",
    "version": 3
   },
   "file_extension": ".py",
   "mimetype": "text/x-python",
   "name": "python",
   "nbconvert_exporter": "python",
   "pygments_lexer": "ipython3",
   "version": "3.12.7"
  }
 },
 "nbformat": 4,
 "nbformat_minor": 5
}
