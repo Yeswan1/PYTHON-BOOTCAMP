{
 "cells": [
  {
   "cell_type": "markdown",
   "metadata": {},
   "source": [
    "# Module: NumPy Assignments\n",
    "## Lesson: NumPy\n",
    "### Assignment 1: Array Creation and Manipulation\n",
    "\n",
    "1. Create a NumPy array of shape (5, 5) filled with random integers between 1 and 20. Replace all the elements in the third column with 1.\n",
    "2. Create a NumPy array of shape (4, 4) with values from 1 to 16. Replace the diagonal elements with 0.\n",
    "\n",
    "### Assignment 2: Array Indexing and Slicing\n",
    "\n",
    "1. Create a NumPy array of shape (6, 6) with values from 1 to 36. Extract the sub-array consisting of the 3rd to 5th rows and 2nd to 4th columns.\n",
    "2. Create a NumPy array of shape (5, 5) with random integers. Extract the elements on the border.\n",
    "\n",
    "### Assignment 3: Array Operations\n",
    "\n",
    "1. Create two NumPy arrays of shape (3, 4) filled with random integers. Perform element-wise addition, subtraction, multiplication, and division.\n",
    "2. Create a NumPy array of shape (4, 4) with values from 1 to 16. Compute the row-wise and column-wise sum.\n",
    "\n",
    "### Assignment 4: Statistical Operations\n",
    "\n",
    "1. Create a NumPy array of shape (5, 5) filled with random integers. Compute the mean, median, standard deviation, and variance of the array.\n",
    "2. Create a NumPy array of shape (3, 3) with values from 1 to 9. Normalize the array (i.e., scale the values to have a mean of 0 and a standard deviation of 1).\n",
    "\n",
    "### Assignment 5: Broadcasting\n",
    "\n",
    "1. Create a NumPy array of shape (3, 3) filled with random integers. Add a 1D array of shape (3,) to each row of the 2D array using broadcasting.\n",
    "2. Create a NumPy array of shape (4, 4) filled with random integers. Subtract a 1D array of shape (4,) from each column of the 2D array using broadcasting.\n",
    "\n",
    "### Assignment 6: Linear Algebra\n",
    "\n",
    "1. Create a NumPy array of shape (3, 3) representing a matrix. Compute its determinant, inverse, and eigenvalues.\n",
    "2. Create two NumPy arrays of shape (2, 3) and (3, 2). Perform matrix multiplication on these arrays.\n",
    "\n",
    "### Assignment 7: Advanced Array Manipulation\n",
    "\n",
    "1. Create a NumPy array of shape (3, 3) with values from 1 to 9. Reshape the array to shape (1, 9) and then to shape (9, 1).\n",
    "2. Create a NumPy array of shape (5, 5) filled with random integers. Flatten the array and then reshape it back to (5, 5).\n",
    "\n",
    "### Assignment 8: Fancy Indexing and Boolean Indexing\n",
    "\n",
    "1. Create a NumPy array of shape (5, 5) filled with random integers. Use fancy indexing to extract the elements at the corners of the array.\n",
    "2. Create a NumPy array of shape (4, 4) filled with random integers. Use boolean indexing to set all elements greater than 10 to 10.\n",
    "\n",
    "### Assignment 9: Structured Arrays\n",
    "\n",
    "1. Create a structured array with fields 'name' (string), 'age' (integer), and 'weight' (float). Add some data and sort the array by age.\n",
    "2. Create a structured array with fields 'x' and 'y' (both integers). Add some data and compute the Euclidean distance between each pair of points.\n",
    "\n",
    "### Assignment 10: Masked Arrays\n",
    "\n",
    "1. Create a masked array of shape (4, 4) with random integers and mask the elements greater than 10. Compute the sum of the unmasked elements.\n",
    "2. Create a masked array of shape (3, 3) with random integers and mask the diagonal elements. Replace the masked elements with the mean of the unmasked elements."
   ]
  },
  {
   "cell_type": "code",
   "execution_count": 11,
   "id": "d55e7790",
   "metadata": {},
   "outputs": [
    {
     "name": "stdout",
     "output_type": "stream",
     "text": [
      "[[ 2 15 11  8  2]\n",
      " [20  9 13  7 13]\n",
      " [20  9  6 16 18]\n",
      " [ 5  8 14  9 19]\n",
      " [16 13 18  1 20]]\n",
      "\n",
      "[[ 2 15  1  8  2]\n",
      " [20  9  1  7 13]\n",
      " [20  9  1 16 18]\n",
      " [ 5  8  1  9 19]\n",
      " [16 13  1  1 20]]\n"
     ]
    }
   ],
   "source": [
    "import numpy as np\n",
    "arr=np.random.randint(1,21,size=(5,5))\n",
    "print(arr)\n",
    "arr[0:5,2]=1\n",
    "print()\n",
    "print(arr)\n"
   ]
  },
  {
   "cell_type": "markdown",
   "id": "5dee80cf",
   "metadata": {},
   "source": []
  },
  {
   "cell_type": "code",
   "execution_count": 25,
   "id": "67202eab",
   "metadata": {},
   "outputs": [
    {
     "name": "stdout",
     "output_type": "stream",
     "text": [
      "[[ 5  3  7  9]\n",
      " [ 5  2  8  9]\n",
      " [ 7 14  5 14]\n",
      " [ 3  8 14 15]]\n",
      "\n",
      "[[ 5  3  7  9]\n",
      " [ 5  5  8  9]\n",
      " [ 7 14  5 14]\n",
      " [ 3  8 14  5]]\n"
     ]
    }
   ],
   "source": [
    "a2=np.random.randint(1,16,size=(4,4))\n",
    "print(a2)\n",
    "print()\n",
    "\n",
    "np.fill_diagonal(a2,5)\n",
    "print(a2)"
   ]
  },
  {
   "cell_type": "markdown",
   "id": "2897d9e1",
   "metadata": {},
   "source": [
    "### Assignment 2: Array Indexing and Slicing\n",
    "\n",
    "1. Create a NumPy array of shape (6, 6) with values from 1 to 36. Extract the sub-array consisting of the 3rd to 5th rows and 2nd to 4th columns.\n",
    "2. Create a NumPy array of shape (5, 5) with random integers. Extract the elements on the border."
   ]
  },
  {
   "cell_type": "code",
   "execution_count": 27,
   "metadata": {},
   "outputs": [
    {
     "name": "stdout",
     "output_type": "stream",
     "text": [
      "[[ 1  2  3  4  5  6]\n",
      " [ 7  8  9 10 11 12]\n",
      " [13 14 15 16 17 18]\n",
      " [19 20 21 22 23 24]\n",
      " [25 26 27 28 29 30]\n",
      " [31 32 33 34 35 36]]\n"
     ]
    }
   ],
   "source": [
    "a3=np.arange(1,37).reshape(6,6)\n",
    "print(a3)\n"
   ]
  },
  {
   "cell_type": "code",
   "execution_count": 44,
   "id": "24fd00aa",
   "metadata": {},
   "outputs": [
    {
     "name": "stdout",
     "output_type": "stream",
     "text": [
      "[[16 16 12  6 15]\n",
      " [14  7 11  4  1]\n",
      " [19  5  7  9 12]\n",
      " [ 3 10  2 16 11]\n",
      " [18  2  8  3 10]]\n",
      "\n",
      "[16 16 12  6 15 18  2  8  3 10 16 14 19  3 18 15  1 12 11 10]\n"
     ]
    }
   ],
   "source": [
    "a4=np.random.randint(1,20,size=(5,5))\n",
    "print(a4)\n",
    "print()\n",
    "\n",
    "border=np.concatenate((a4[0,:],a4[-1,:],a4[:,0],a4[:,4]))\n",
    "print(border)"
   ]
  },
  {
   "cell_type": "markdown",
   "id": "3ca9e848",
   "metadata": {},
   "source": [
    "### Assignment 3: Array Operations\n",
    "\n",
    "1. Create two NumPy arrays of shape (3, 4) filled with random integers. Perform element-wise addition, subtraction, multiplication, and division.\n",
    "2. Create a NumPy array of shape (4, 4) with values from 1 to 16. Compute the row-wise and column-wise sum."
   ]
  },
  {
   "cell_type": "code",
   "execution_count": 48,
   "id": "11856623",
   "metadata": {},
   "outputs": [
    {
     "name": "stdout",
     "output_type": "stream",
     "text": [
      "[[18 20 22 20]\n",
      " [22 19  3 19]\n",
      " [18 13 18  7]]\n",
      "\n",
      "[[15  8 13  9]\n",
      " [12 12  7  2]\n",
      " [22  1 14 13]]\n"
     ]
    }
   ],
   "source": [
    "a5=np.random.randint(1,25,size=(3,4))\n",
    "print(a5)\n",
    "print()\n",
    "a6=np.random.randint(1,25,size=(3,4))\n",
    "print(a6)\n"
   ]
  },
  {
   "cell_type": "code",
   "execution_count": 53,
   "id": "b3f14984",
   "metadata": {},
   "outputs": [
    {
     "name": "stdout",
     "output_type": "stream",
     "text": [
      "[[ 2  7  2 20]\n",
      " [ 4 21 18  5]\n",
      " [19 22 17 23]\n",
      " [ 9 18  1  4]]\n",
      "\n",
      "[[ 3  9  1 21]\n",
      " [ 3  9 14  9]\n",
      " [10 15  3  9]\n",
      " [11 21 16 16]]\n",
      "\n",
      "[31 48 81 32]\n",
      "[27 54 34 55]\n"
     ]
    }
   ],
   "source": [
    "a7=np.random.randint(1,25,size=(4,4))\n",
    "print(a7)\n",
    "print()\n",
    "a8=np.random.randint(1,25,size=(4,4))\n",
    "print(a8)\n",
    "row_sum=np.sum(a7,axis=1)\n",
    "column_sum=np.sum(a8,axis=0)\n",
    "print()\n",
    "print(row_sum)\n",
    "print(column_sum)"
   ]
  },
  {
   "cell_type": "markdown",
   "id": "331eded7",
   "metadata": {},
   "source": [
    "### Assignment 4: Statistical Operations\n",
    "\n",
    "1. Create a NumPy array of shape (5, 5) filled with random integers. Compute the mean, median, standard deviation, and variance of the array.\n",
    "2. Create a NumPy array of shape (3, 3) with values from 1 to 9. Normalize the array (i.e., scale the values to have a mean of 0 and a standard deviation of 1)."
   ]
  },
  {
   "cell_type": "code",
   "execution_count": 56,
   "id": "5a3a427a",
   "metadata": {},
   "outputs": [
    {
     "name": "stdout",
     "output_type": "stream",
     "text": [
      "[[10  3 18 23 24]\n",
      " [22  1 20  9  2]\n",
      " [ 2 15 22  2  1]\n",
      " [ 8 12 20  8  7]\n",
      " [24 23  4 12 14]]\n",
      "median 12.0\n",
      "mean 12.24\n",
      "standard deviation 8.154900367263846\n",
      "variance 66.5024\n"
     ]
    }
   ],
   "source": [
    "a9=np.random.randint(1,25,size=(5,5))\n",
    "print(a9)\n",
    "\n",
    "print(\"median\",np.median(a9))\n",
    "print(\"mean\",np.mean(a9))\n",
    "print(\"standard deviation\",np.std(a9))\n",
    "print(\"variance\",np.var(a9))"
   ]
  },
  {
   "cell_type": "code",
   "execution_count": 76,
   "id": "fa1d5c22",
   "metadata": {},
   "outputs": [
    {
     "name": "stdout",
     "output_type": "stream",
     "text": [
      "[[1 2 3]\n",
      " [4 5 6]\n",
      " [7 8 9]]\n",
      "Normalized array:\n",
      "[[-0.27468147 -1.13306105  0.70632377  1.31945205  1.4420777 ]\n",
      " [ 1.19682639 -1.37831236  0.95157508 -0.39730712 -1.25568671]\n",
      " [-1.25568671  0.33844681  1.19682639 -1.25568671 -1.37831236]\n",
      " [-0.51993278 -0.02943016  0.95157508 -0.51993278 -0.64255843]\n",
      " [ 1.4420777   1.31945205 -1.0104354  -0.02943016  0.21582115]]\n"
     ]
    }
   ],
   "source": [
    "a10=np.arange(1,10).reshape(3,3)\n",
    "print(a10)\n",
    "\n",
    "mean = np.mean(a9)\n",
    "std_dev = np.std(a9)\n",
    "normalized_array = (a9 -mean)/std_dev\n",
    "\n",
    "print(\"Normalized array:\")\n",
    "print(normalized_array)\n"
   ]
  },
  {
   "cell_type": "markdown",
   "id": "2ffda482",
   "metadata": {},
   "source": [
    "### Assignment 5: Broadcasting\n",
    "\n",
    "1. Create a NumPy array of shape (3, 3) filled with random integers. Add a 1D array of shape (3,) to each row of the 2D array using broadcasting.\n",
    "2. Create a NumPy array of shape (4, 4) filled with random integers. Subtract a 1D array of shape (4,) from each column of the 2D array using broadcasting.\n"
   ]
  },
  {
   "cell_type": "code",
   "execution_count": 77,
   "id": "cb7c1cc6",
   "metadata": {},
   "outputs": [
    {
     "name": "stdout",
     "output_type": "stream",
     "text": [
      "Original array:\n",
      "[[6 3 3]\n",
      " [9 5 3]\n",
      " [5 4 5]]\n",
      "1D array:\n",
      "[ 9  2 10]\n",
      "Resulting array:\n",
      "[[15  5 13]\n",
      " [18  7 13]\n",
      " [14  6 15]]\n"
     ]
    }
   ],
   "source": [
    "# Create a NumPy array of shape (3, 3) filled with random integers\n",
    "array = np.random.randint(1, 11, size=(3, 3))\n",
    "row_array = np.random.randint(1, 11, size=(3,))\n",
    "print(\"Original array:\")\n",
    "print(array)\n",
    "print(\"1D array:\")\n",
    "print(row_array)\n",
    "\n",
    "# Add the 1D array to each row of the 2D array using broadcasting\n",
    "result = array + row_array\n",
    "print(\"Resulting array:\")\n",
    "print(result)"
   ]
  },
  {
   "cell_type": "code",
   "execution_count": 91,
   "id": "12e6b4ac",
   "metadata": {},
   "outputs": [
    {
     "name": "stdout",
     "output_type": "stream",
     "text": [
      "Original array:\n",
      "[[ 6  9  6  9]\n",
      " [ 7  6  4  4]\n",
      " [ 1  3 10  6]\n",
      " [10  4 10  1]]\n",
      "1D array:\n",
      "[8 3 7 8]\n",
      "Resulting array:\n",
      "[[-2  1 -2  1]\n",
      " [ 4  3  1  1]\n",
      " [-6 -4  3 -1]\n",
      " [ 2 -4  2 -7]]\n"
     ]
    }
   ],
   "source": [
    "# Create a NumPy array of shape (4, 4) filled with random integers\n",
    "array = np.random.randint(1, 11, size=(4, 4))\n",
    "column_array = np.random.randint(1, 11, size=(4,))\n",
    "print(\"Original array:\")\n",
    "print(array)\n",
    "print(\"1D array:\")\n",
    "print(column_array)\n",
    "\n",
    "# Subtract the 1D array from each column of the 2D array using broadcasting\n",
    "result = array - column_array[:, np.newaxis]\n",
    "print(\"Resulting array:\")\n",
    "print(result)"
   ]
  },
  {
   "cell_type": "markdown",
   "id": "26ea817a",
   "metadata": {},
   "source": [
    "### Assignment 6: Linear Algebra\n",
    "\n",
    "1. Create a NumPy array of shape (3, 3) representing a matrix. Compute its determinant, inverse, and eigenvalues.\n",
    "2. Create two NumPy arrays of shape (2, 3) and (3, 2). Perform matrix multiplication on these arrays.\n"
   ]
  },
  {
   "cell_type": "code",
   "execution_count": 96,
   "id": "c6638b4d",
   "metadata": {},
   "outputs": [
    {
     "name": "stdout",
     "output_type": "stream",
     "text": [
      "[[4 1 6]\n",
      " [8 2 3]\n",
      " [3 6 4]]\n",
      "\n",
      "\n",
      "189.00000000000003\n",
      "\n",
      "[[ -0.58382066  -0.29727096  -1.74756335   2.79044834  -0.22709552]\n",
      " [  0.52211726   0.28639976   1.64582396  -2.61778378   0.25536062]\n",
      " [ -0.46581197  -0.26068376  -1.4017094    2.31623932  -0.22222222]\n",
      " [  2.89413705   1.680012     8.70880192 -14.11081122   1.23196881]\n",
      " [ -2.20452842  -1.32643575  -6.77222972  10.95021742  -0.95126706]]\n",
      "\n",
      "[ 58.59445445 +0.j         -12.2013111 +14.72284277j\n",
      " -12.2013111 -14.72284277j  20.86783557 +0.j\n",
      "  -0.05966781 +0.j        ]\n"
     ]
    }
   ],
   "source": [
    "a14=np.random.randint(1,11,size=(3,3))\n",
    "print(a14)\n",
    "print()\n",
    "determinant=np.linalg.det(a14)\n",
    "invers=np.linalg.inv(a9)\n",
    "eigenval=np.linalg.eigvals(a9)\n",
    "print()\n",
    "print(determinant)\n",
    "print()\n",
    "print(invers)\n",
    "print()\n",
    "print(eigenval)"
   ]
  },
  {
   "cell_type": "markdown",
   "id": "378fff88",
   "metadata": {},
   "source": [
    "### Assignment 7: Advanced Array Manipulation\n",
    "\n",
    "1. Create a NumPy array of shape (3, 3) with values from 1 to 9. Reshape the array to shape (1, 9) and then to shape (9, 1).\n",
    "2. Create a NumPy array of shape (5, 5) filled with random integers. Flatten the array and then reshape it back to (5, 5).\n"
   ]
  },
  {
   "cell_type": "code",
   "execution_count": 100,
   "id": "138d1411",
   "metadata": {},
   "outputs": [
    {
     "name": "stdout",
     "output_type": "stream",
     "text": [
      "Reshaped array (1, 9):\n",
      "[[1 2 3 4 5 6 7 8 9]]\n",
      "Reshaped array (9, 1):\n",
      "[[1]\n",
      " [2]\n",
      " [3]\n",
      " [4]\n",
      " [5]\n",
      " [6]\n",
      " [7]\n",
      " [8]\n",
      " [9]]\n"
     ]
    }
   ],
   "source": [
    "a15=np.arange(1,10).reshape(3,3)\n",
    "# Reshape the array to shape (1, 9)\n",
    "reshaped_array_1 = a15.reshape((1, 9))\n",
    "print(\"Reshaped array (1, 9):\")\n",
    "print(reshaped_array_1)\n",
    "\n",
    "# Reshape the array to shape (9, 1)\n",
    "reshaped_array_2 = reshaped_array_1.reshape((9, 1))\n",
    "print(\"Reshaped array (9, 1):\")\n",
    "print(reshaped_array_2)"
   ]
  },
  {
   "cell_type": "code",
   "execution_count": 101,
   "id": "accc0d4f",
   "metadata": {},
   "outputs": [
    {
     "name": "stdout",
     "output_type": "stream",
     "text": [
      "Original array:\n",
      "[[16 11  2  1 15]\n",
      " [18 12 14  1  9]\n",
      " [ 9 13  4 13  1]\n",
      " [13 14 15  2 12]\n",
      " [16  8 20 16  7]]\n",
      "Flattened array:\n",
      "[16 11  2  1 15 18 12 14  1  9  9 13  4 13  1 13 14 15  2 12 16  8 20 16\n",
      "  7]\n",
      "Reshaped array:\n",
      "[[16 11  2  1 15]\n",
      " [18 12 14  1  9]\n",
      " [ 9 13  4 13  1]\n",
      " [13 14 15  2 12]\n",
      " [16  8 20 16  7]]\n"
     ]
    }
   ],
   "source": [
    "array = np.random.randint(1, 21, size=(5, 5))\n",
    "print(\"Original array:\")\n",
    "print(array)\n",
    "\n",
    "# Flatten the array\n",
    "flattened_array = array.flatten()\n",
    "print(\"Flattened array:\")\n",
    "print(flattened_array)\n",
    "\n",
    "# Reshape the array back to (5, 5)\n",
    "reshaped_array = flattened_array.reshape((5, 5))\n",
    "print(\"Reshaped array:\")\n",
    "print(reshaped_array)"
   ]
  },
  {
   "cell_type": "code",
   "execution_count": 103,
   "id": "09546c08",
   "metadata": {},
   "outputs": [
    {
     "name": "stdout",
     "output_type": "stream",
     "text": [
      "Original array:\n",
      "[[ 7 15 12  1 10]\n",
      " [10  3  3 20 17]\n",
      " [ 2 11 18  1  3]\n",
      " [17  6 15  3 13]\n",
      " [10 17  9  5  6]]\n",
      "Corner elements:\n",
      "[ 7 10 10  6]\n"
     ]
    }
   ],
   "source": [
    "array = np.random.randint(1, 21, size=(5, 5))\n",
    "print(\"Original array:\")\n",
    "print(array)\n",
    "\n",
    "# Use fancy indexing to extract the elements at the corners of the array\n",
    "corners = array[[0,0,-1,-1],[0,-1,0,-1]]\n",
    "print(\"Corner elements:\")\n",
    "print(corners)"
   ]
  },
  {
   "cell_type": "code",
   "execution_count": 104,
   "id": "32284184",
   "metadata": {},
   "outputs": [
    {
     "name": "stdout",
     "output_type": "stream",
     "text": [
      "Original array:\n",
      "[[13  2  1 14]\n",
      " [ 1  2  9  1]\n",
      " [18 13 13 15]\n",
      " [ 7 20  5  6]]\n",
      "Modified array:\n",
      "[[10  2  1 10]\n",
      " [ 1  2  9  1]\n",
      " [10 10 10 10]\n",
      " [ 7 10  5  6]]\n"
     ]
    }
   ],
   "source": [
    "# Create a NumPy array of shape (4, 4) filled with random integers\n",
    "array = np.random.randint(1, 21, size=(4, 4))\n",
    "print(\"Original array:\")\n",
    "print(array)\n",
    "\n",
    "# Use boolean indexing to set all elements greater than 10 to 10\n",
    "array[array > 10] = 10\n",
    "print(\"Modified array:\")\n",
    "print(array)"
   ]
  },
  {
   "cell_type": "code",
   "execution_count": 105,
   "id": "3e01c9ed",
   "metadata": {},
   "outputs": [
    {
     "name": "stdout",
     "output_type": "stream",
     "text": [
      "Original array:\n",
      "[('Alice', 25, 55.5) ('Bob', 30, 85.3) ('Charlie', 20, 65.2)]\n",
      "Sorted array by age:\n",
      "[('Charlie', 20, 65.2) ('Alice', 25, 55.5) ('Bob', 30, 85.3)]\n"
     ]
    }
   ],
   "source": [
    "# Create a structured array with fields 'name', 'age', and 'weight'\n",
    "data_type = [('name', 'U10'), ('age', 'i4'), ('weight', 'f4')]\n",
    "data = np.array([('Alice', 25, 55.5), ('Bob', 30, 85.3), ('Charlie', 20, 65.2)], dtype=data_type)\n",
    "print(\"Original array:\")\n",
    "print(data)\n",
    "\n",
    "# Sort the array by age\n",
    "sorted_data = np.sort(data, order='age')\n",
    "print(\"Sorted array by age:\")\n",
    "print(sorted_data)"
   ]
  },
  {
   "cell_type": "code",
   "execution_count": 106,
   "id": "b24ce29a",
   "metadata": {},
   "outputs": [
    {
     "name": "stdout",
     "output_type": "stream",
     "text": [
      "Original array:\n",
      "[(1, 2) (3, 4) (5, 6)]\n",
      "Euclidean distances:\n",
      "[[0.         2.82842712 5.65685425]\n",
      " [2.82842712 0.         2.82842712]\n",
      " [5.65685425 2.82842712 0.        ]]\n"
     ]
    }
   ],
   "source": [
    "# Create a structured array with fields 'x' and 'y'\n",
    "data_type = [('x', 'i4'), ('y', 'i4')]\n",
    "data = np.array([(1, 2), (3, 4), (5, 6)], dtype=data_type)\n",
    "print(\"Original array:\")\n",
    "print(data)\n",
    "\n",
    "# Compute the Euclidean distance between each pair of points\n",
    "distances = np.sqrt((data['x'][:, np.newaxis] - data['x'])**2 + (data['y'][:, np.newaxis] - data['y'])**2)\n",
    "print(\"Euclidean distances:\")\n",
    "print(distances)"
   ]
  },
  {
   "cell_type": "code",
   "execution_count": 107,
   "id": "4ca3a4c9",
   "metadata": {},
   "outputs": [
    {
     "name": "stdout",
     "output_type": "stream",
     "text": [
      "Original array:\n",
      "[[ 2 12  8  3]\n",
      " [ 6 20 18 11]\n",
      " [ 4 20 20  5]\n",
      " [11  5 11  1]]\n",
      "Masked array:\n",
      "[[2 -- 8 3]\n",
      " [6 -- -- --]\n",
      " [4 -- -- 5]\n",
      " [-- 5 -- 1]]\n",
      "Sum of unmasked elements: 34\n"
     ]
    }
   ],
   "source": [
    "import numpy.ma as ma\n",
    "\n",
    "# Create a masked array of shape (4, 4) with random integers\n",
    "array = np.random.randint(1, 21, size=(4, 4))\n",
    "masked_array = ma.masked_greater(array, 10)\n",
    "print(\"Original array:\")\n",
    "print(array)\n",
    "print(\"Masked array:\")\n",
    "print(masked_array)\n",
    "\n",
    "# Compute the sum of the unmasked elements\n",
    "sum_unmasked = masked_array.sum()\n",
    "print(\"Sum of unmasked elements:\", sum_unmasked)"
   ]
  },
  {
   "cell_type": "code",
   "execution_count": 108,
   "id": "43455380",
   "metadata": {},
   "outputs": [
    {
     "name": "stdout",
     "output_type": "stream",
     "text": [
      "Original array:\n",
      "[[14  3  7]\n",
      " [18  8 16]\n",
      " [ 9 18 19]]\n",
      "Masked array:\n",
      "[[-- 3 7]\n",
      " [18 -- 16]\n",
      " [9 18 --]]\n",
      "Modified masked array:\n",
      "[[11  3  7]\n",
      " [18 11 16]\n",
      " [ 9 18 11]]\n"
     ]
    }
   ],
   "source": [
    "\n",
    "\n",
    "# Create a masked array of shape (3, 3) with random integers\n",
    "array = np.random.randint(1, 21, size=(3, 3))\n",
    "masked_array = ma.masked_array(array, mask=np.eye(3, dtype=bool))\n",
    "print(\"Original array:\")\n",
    "print(array)\n",
    "print(\"Masked array:\")\n",
    "print(masked_array)\n",
    "\n",
    "# Replace the masked elements with the mean of the unmasked elements\n",
    "mean_unmasked = masked_array.mean()\n",
    "masked_array = masked_array.filled(mean_unmasked)\n",
    "print(\"Modified masked array:\")\n",
    "print(masked_array)"
   ]
  }
 ],
 "metadata": {
  "kernelspec": {
   "display_name": "base",
   "language": "python",
   "name": "python3"
  },
  "language_info": {
   "codemirror_mode": {
    "name": "ipython",
    "version": 3
   },
   "file_extension": ".py",
   "mimetype": "text/x-python",
   "name": "python",
   "nbconvert_exporter": "python",
   "pygments_lexer": "ipython3",
   "version": "3.12.7"
  }
 },
 "nbformat": 4,
 "nbformat_minor": 5
}
