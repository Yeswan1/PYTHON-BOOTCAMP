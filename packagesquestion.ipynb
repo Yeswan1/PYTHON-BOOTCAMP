{
 "cells": [
  {
   "cell_type": "code",
   "execution_count": null,
   "id": "0bb40682",
   "metadata": {},
   "outputs": [],
   "source": []
  },
  {
   "cell_type": "code",
   "execution_count": 25,
   "id": "6ebe9ea5",
   "metadata": {},
   "outputs": [
    {
     "name": "stdout",
     "output_type": "stream",
     "text": [
      "Random list of 5 numbers between 1 and 50: [18, 39, 49, 4, 18]\n",
      "Shuffled list: [4, 39, 18, 18, 49]\n"
     ]
    }
   ],
   "source": [
    "import random as rand\n",
    "random_list = [rand.randint(1, 50) for _ in range(5)]\n",
    "print(\"Random list of 5 numbers between 1 and 50:\", random_list)\n",
    "rand.shuffle(random_list)\n",
    "print(\"Shuffled list:\", random_list)"
   ]
  },
  {
   "cell_type": "code",
   "execution_count": null,
   "id": "6f6f5ddc",
   "metadata": {},
   "outputs": [],
   "source": []
  }
 ],
 "metadata": {
  "kernelspec": {
   "display_name": "base",
   "language": "python",
   "name": "python3"
  },
  "language_info": {
   "codemirror_mode": {
    "name": "ipython",
    "version": 3
   },
   "file_extension": ".py",
   "mimetype": "text/x-python",
   "name": "python",
   "nbconvert_exporter": "python",
   "pygments_lexer": "ipython3",
   "version": "3.12.7"
  }
 },
 "nbformat": 4,
 "nbformat_minor": 5
}
