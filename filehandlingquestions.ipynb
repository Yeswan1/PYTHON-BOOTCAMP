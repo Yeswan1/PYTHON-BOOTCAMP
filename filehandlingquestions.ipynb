{
 "cells": [
  {
   "cell_type": "markdown",
   "metadata": {},
   "source": [
    "# Module: File Handling Assignments\n",
    "## Lesson: File Handling and Operations\n",
    "### Assignment 1: Reading a File\n",
    "\n",
    "Write a function that reads the contents of a file named `sample.txt` and prints each line.\n",
    "\n",
    "### Assignment 2: Writing to a File\n",
    "\n",
    "Write a function that writes a list of strings to a file named `output.txt`, with each string on a new line.\n",
    "\n",
    "### Assignment 3: Copying a File\n",
    "\n",
    "Write a function that copies the contents of a file named `source.txt` to a new file named `destination.txt`.\n",
    "\n",
    "### Assignment 4: Appending to a File\n",
    "\n",
    "Write a function that appends a given string to the end of a file named `log.txt`.\n",
    "\n",
    "### Assignment 5: Counting Words in a File\n",
    "\n",
    "Write a function that reads the contents of a file named `document.txt` and returns the number of words in the file.\n",
    "\n",
    "### Assignment 6: Finding and Replacing Text\n",
    "\n",
    "Write a function that finds and replaces all occurrences of a given word in a file named `data.txt` with another word.\n",
    "\n",
    "### Assignment 7: Reading a File in Reverse\n",
    "\n",
    "Write a function that reads the contents of a file named `reverse.txt` and prints each line in reverse order.\n",
    "\n",
    "### Assignment 8: Counting Lines, Words, and Characters\n",
    "\n",
    "Write a function that reads the contents of a file named `stats.txt` and returns the number of lines, words, and characters in the file.\n",
    "\n",
    "### Assignment 9: Merging Multiple Files\n",
    "\n",
    "Write a function that merges the contents of multiple files into a single file named `merged.txt`.\n",
    "\n",
    "### Assignment 10: Splitting a Large File\n",
    "\n",
    "Write a function that splits a large file named `large.txt` into smaller files of 100 lines each.\n",
    "\n",
    "### Assignment 11: Creating a Log File\n",
    "\n",
    "Write a function that creates a log file named `activity.log` and writes log messages with timestamps.\n",
    "\n",
    "### Assignment 12: Binary File Operations\n",
    "\n",
    "Write a function that reads a binary file named `image.bin` and writes its contents to another binary file named `copy_image.bin`.\n",
    "\n",
    "### Assignment 13: CSV File Operations\n",
    "\n",
    "Write a function that reads a CSV file named `data.csv` and prints its contents as a list of dictionaries.\n",
    "\n",
    "### Assignment 14: JSON File Operations\n",
    "\n",
    "Write a function that reads a JSON file named `data.json` and prints its contents as a Python dictionary.\n",
    "\n",
    "### Assignment 15: File Permission Handling\n",
    "\n",
    "Write a function that attempts to read a file named `protected.txt` and handles any permission errors gracefully by printing an error message."
   ]
  },
  {
   "cell_type": "code",
   "execution_count": 4,
   "metadata": {},
   "outputs": [
    {
     "name": "stdout",
     "output_type": "stream",
     "text": [
      "i am yeswanth\n",
      "guru99\n",
      "temper\n",
      "rebel\n",
      "9999999\n"
     ]
    }
   ],
   "source": [
    "#Write a function that reads the contents of a file named `sample.txt` and prints each line.\n",
    "def read_file(file_name):\n",
    "    with open(file_name, 'r') as f:\n",
    "        for line in f:\n",
    "            print(line.strip())\n",
    "read_file('stats.txt')"
   ]
  },
  {
   "cell_type": "code",
   "execution_count": 5,
   "id": "d710d7d7",
   "metadata": {},
   "outputs": [],
   "source": [
    "# Write a function that reads the contents of a file named `sample.txt` and prints each line.\n",
    "\n",
    "def write_file(file_name,content):\n",
    "    with open(file_name, 'w') as f:\n",
    "        f.write(content + '\\n')\n",
    "write_file('sample.txt', 'This is a sample file.')\n",
    "\n"
   ]
  },
  {
   "cell_type": "code",
   "execution_count": 6,
   "id": "bccb84cf",
   "metadata": {},
   "outputs": [],
   "source": [
    "def copy_content(source_file,destination_file):\n",
    "    with open(source_file,'r') as src:\n",
    "        content = src.read()\n",
    "    with open(destination_file,'w') as dest:\n",
    "        dest.write(content)\n",
    "copy_content('sample.txt', 'copied_sample.txt')"
   ]
  },
  {
   "cell_type": "code",
   "execution_count": 7,
   "id": "6c9d872a",
   "metadata": {},
   "outputs": [],
   "source": [
    "def append(file_name,content):\n",
    "    with open(file_name,'a') as f:\n",
    "        f.write(content + '\\n')\n",
    "append('sample.txt', 'This is an appended line.')"
   ]
  },
  {
   "cell_type": "code",
   "execution_count": 9,
   "id": "ed778aaa",
   "metadata": {},
   "outputs": [
    {
     "data": {
      "text/plain": [
       "10"
      ]
     },
     "execution_count": 9,
     "metadata": {},
     "output_type": "execute_result"
    }
   ],
   "source": [
    "def count_words(file_name):\n",
    "    with open(file_name,'r') as f:\n",
    "        text=f.read()\n",
    "        words=text.split()\n",
    "    return len(words)\n",
    "count_words('sample.txt')"
   ]
  },
  {
   "cell_type": "code",
   "execution_count": 12,
   "id": "67f743ab",
   "metadata": {},
   "outputs": [],
   "source": [
    "def find_and_replace(filename, old_word, new_word):\n",
    "    with open(filename, 'r') as file:\n",
    "        text = file.read()\n",
    "    new_text = text.replace(old_word, new_word)\n",
    "    with open(filename, 'w') as file:\n",
    "        file.write(new_text)\n",
    "\n",
    "# Test\n",
    "find_and_replace('sample.txt', 'old', 'new')"
   ]
  },
  {
   "cell_type": "code",
   "execution_count": 13,
   "id": "3ec122f0",
   "metadata": {},
   "outputs": [
    {
     "name": "stdout",
     "output_type": "stream",
     "text": [
      "This is an appended line.\n",
      "This is a sample file.\n"
     ]
    }
   ],
   "source": [
    "def read_reverse(filename):\n",
    "    with open(filename, 'r') as file:\n",
    "        lines = file.readlines()\n",
    "    for line in reversed(lines):\n",
    "        print(line.strip())\n",
    "\n",
    "# Test\n",
    "read_reverse('sample.txt')"
   ]
  },
  {
   "cell_type": "code",
   "execution_count": 15,
   "id": "e5a8694f",
   "metadata": {},
   "outputs": [
    {
     "name": "stdout",
     "output_type": "stream",
     "text": [
      "(5, 7, 41)\n"
     ]
    }
   ],
   "source": [
    "def count_lwc(filename):\n",
    "    with open(filename, 'r') as file:\n",
    "        lines = file.readlines()\n",
    "        words = sum(len(line.split()) for line in lines)\n",
    "        characters = sum(len(line) for line in lines)\n",
    "    return len(lines), words, characters\n",
    "\n",
    "#\n",
    "print(count_lwc('stats.txt'))"
   ]
  }
 ],
 "metadata": {
  "kernelspec": {
   "display_name": "base",
   "language": "python",
   "name": "python3"
  },
  "language_info": {
   "codemirror_mode": {
    "name": "ipython",
    "version": 3
   },
   "file_extension": ".py",
   "mimetype": "text/x-python",
   "name": "python",
   "nbconvert_exporter": "python",
   "pygments_lexer": "ipython3",
   "version": "3.12.7"
  }
 },
 "nbformat": 4,
 "nbformat_minor": 5
}
